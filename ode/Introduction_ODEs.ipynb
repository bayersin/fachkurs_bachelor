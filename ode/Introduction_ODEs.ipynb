{
 "cells": [
  {
   "cell_type": "markdown",
   "metadata": {},
   "source": [
    "Introduction\n",
    "=======\n",
    "What is an ODE\n",
    "----------------\n",
    "Differential equations can be used to describe the time-dependent behaviour of a variable.      \n",
    "$$\\frac{\\text{d}\\vec{x}}{\\text{d}t} = f(\\vec{x}, t)$$   \n",
    "In our case the variable stands for the number of humans in a infected (zombies) or not infected population.\n",
    "Of course they can also be used to describe the change of concentrations in a cell or other continuous or quasi-continuous quantity.     \n",
    "\n",
    "In general, a first order ODE has two parts, the increasing (birth, formation,...) and the decreasing (death, degradation, ...) part:\n",
    "\n",
    "$$\\frac{\\text{d}\\vec{x}}{\\text{d}t} = \\sum_{}\\text{Rates}_{\\text{production}} - \\sum_{}\\text{Rates}_{\\text{loss}}$$ \n",
    "\n",
    "\n",
    "You probably already know ways to solve a differential equation algebraically by 'separation of variables' (Trennung der Variablen) in the homogeneous case or 'variation of parameters' (Variation der Konstanten) in the inhomogeneous case. Here, we want to discuss the use of numerical methods to solve your ODE system."
   ]
  },
  {
   "cell_type": "markdown",
   "metadata": {},
   "source": [
    "Numerical integration\n",
    "------------------------\n",
    "In principle, every numerical procedure to solve an ODE is based on the so-called \"Euler\" method. It's very easy to understand, you just have to read the $\\frac{\\text{d}\\vec{x}}{\\text{d}t}$ as a $\\frac{\\Delta \\vec{x}}{\\Delta t}$. Then you can multiply both sides of the equation with $\\Delta t$ and you have an equation describing the change of your variables during a certain time intervall $\\Delta t$:\n",
    "\n",
    "$$ \\Delta \\vec{x} = f(\\vec{x}, t)\\times \\Delta t$$\n",
    "\n",
    "Of course, the smaller yoy choose the time intervall $\\Delta t$, the more accurate your result will be in comparison to the analytical solution.     \n",
    "So it's clear, we chose a tiny one, right? Well, not exactly, the smaller your time intervall the longer the simulation will take. Therefore, we need a compromise and here the provided software will help us by constantly testing and observing the numerical solution and adapt the \"step size\" $\\Delta t$ automatically."
   ]
  },
  {
   "cell_type": "markdown",
   "metadata": {},
   "source": [
    "ODEs to describe biochemical reactions\n",
    "------------------------------------------\n",
    "When you want to simulate biochemical reactions it is in principle not different to the things you've learned right now, but there is one important thing to consider. People have thought a lot about the best ways to describe certain kinds of chemical reactions and their kinetics. Let's have a look at one of the 'rates' from above:\n",
    "We wrote the birth rate of humans as $$v_{\\text{birth}} = \\text{P}$$\n",
    "that means, there is a constant addition of human beeings in our system, or a constant 'influx'."
   ]
  },
  {
   "cell_type": "markdown",
   "metadata": {},
   "source": [
    "Then, we have the 'natural' death of predators $$v_{\\text{death}} = \\text{d}\\times S$$  \n",
    "The extent of the rate is dependent on the current number of humans S, makes sense, right? The more human beeings there are, the more can die of 'natural' cause.    \n",
    "Finally, there is the killing of zombies, this rate is not only dependent on the number of zombies Z (the more there are, the more can be killed), but also on the number of humans S, the more there are, the more can kill zombies:\n",
    "$$v_{\\text{kill}} = \\text{A}\\times S \\times Z$$\n",
    "\n",
    "This kind of 'rate law' we call **mass action**, there is always a parameter multiplied by one or more variables.     "
   ]
  },
  {
   "cell_type": "markdown",
   "metadata": {},
   "source": [
    "The other very important kinetic rate law is the **Michaelis-Menten** kinetic, you've probably heard about it. This rate law was made for describing an enzymatic reactions, when the rate itself cannot reach unlimited extent. The velocity or flux is limited by the maximal rate of the enzyme:\n",
    "$$v_{\\text{MM}} = \\text{V}_\\text{max}\\times \\frac{S}{\\text{K}_{\\text{m}} + S}$$"
   ]
  },
  {
   "cell_type": "markdown",
   "metadata": {},
   "source": [
    "# Lotka-Volterra: A prey-predator model"
   ]
  },
  {
   "cell_type": "markdown",
   "metadata": {},
   "source": [
    "### Model equations:\n",
    "\n",
    "$$ \\frac{\\mathrm{d}\\,R}{\\mathrm{d}\\,t} = aR-bRW $$\n",
    "\n",
    "$$ \\frac{\\mathrm{d}\\,W}{\\mathrm{d}\\,t} = cWR-dW $$  \n",
    "\n",
    "### Variables:\n",
    "H: Rabbit population\n",
    "\n",
    "W: Wolf population\n",
    "\n",
    "### Parameters:\n",
    "a: rabbit's birth rate\n",
    "\n",
    "b: predation rate\n",
    "\n",
    "c: wolf's benefit\n",
    "\n",
    "d: wolf's death rate\n"
   ]
  },
  {
   "cell_type": "markdown",
   "metadata": {},
   "source": [
    "Let's start\n",
    "------------\n",
    "we write a small function **f**, that receives a list of the current values of our variables **x** and the current time **t**. The function has to evaluate the equations of our system or $\\frac{\\text{d}\\vec{x}}{\\text{d}t}$, respectively. Afterwards, it returns the values of the equations as another list.     \n",
    "**Important**   \n",
    "*Since this function **f** is used by the solver, we are not allowed to change the input (arguments) or output (return value) of this function.*"
   ]
  },
  {
   "cell_type": "code",
   "execution_count": null,
   "metadata": {
    "collapsed": true
   },
   "outputs": [],
   "source": [
    "import numpy as np\n",
    "from scipy.integrate import odeint\n",
    "\n",
    "# define ODE\n",
    "def f(y, t, p):   \n",
    "    dydt = np.zeros(2)\n",
    "    # dR/dt\n",
    "    dydt[0] = p[0]*y[0] -p[1]*y[0]*y[1]\n",
    "    # dW/dt\n",
    "    dydt[1] = p[2]*y[1]*y[0] -p[3]*y[1]\n",
    "    return dydt"
   ]
  },
  {
   "cell_type": "markdown",
   "metadata": {},
   "source": [
    "Before we start the simulation of our model, we have to define our system.     \n",
    "We start with our static information:\n",
    "1. Initial conditions for our variables\n",
    "2. Values of the paramters\n",
    "3. Simulation time \n",
    "4. Number of time points at which we want to have the values for our variables (the time grid). *Use numpy!!*"
   ]
  },
  {
   "cell_type": "code",
   "execution_count": null,
   "metadata": {
    "collapsed": true
   },
   "outputs": [],
   "source": [
    "# initial values of variables\n",
    "y0 = np.zeros(2)\n",
    "# R(t=0)\n",
    "y0[0] = 100\n",
    "# W(t=0)\n",
    "y0[1] = 1\n",
    "\n",
    "# define p = [a, b, c, d]\n",
    "p = np.array([1, 0.01, 0.01, 0.8])\n",
    "\n",
    "# time grid\n",
    "t = np.linspace(0,100,500)"
   ]
  },
  {
   "cell_type": "markdown",
   "metadata": {},
   "source": [
    "Last but not least, we need to import and call our solver. The result will be a matrix with our time courses as columns and the values at the specified time points. Since we have a values for every time point and every species, we can directly plot the results using *matplotlib*. "
   ]
  },
  {
   "cell_type": "code",
   "execution_count": null,
   "metadata": {
    "collapsed": false
   },
   "outputs": [],
   "source": [
    "# solve ODE using odeint\n",
    "y = odeint(f, y0, t, (p,))"
   ]
  },
  {
   "cell_type": "markdown",
   "metadata": {},
   "source": [
    "### Plot results"
   ]
  },
  {
   "cell_type": "code",
   "execution_count": null,
   "metadata": {
    "collapsed": false
   },
   "outputs": [],
   "source": [
    "%matplotlib inline\n",
    "import matplotlib.pyplot as plt\n",
    "\n",
    "plt.plot(t,y)\n",
    "plt.xlabel('Time')\n",
    "plt.ylabel('Population')\n",
    "plt.legend(['Rabbit','Wolf'])\n"
   ]
  },
  {
   "cell_type": "markdown",
   "metadata": {},
   "source": [
    "### Phase space diagram"
   ]
  },
  {
   "cell_type": "code",
   "execution_count": null,
   "metadata": {
    "collapsed": false
   },
   "outputs": [],
   "source": [
    "%matplotlib inline\n",
    "import matplotlib.pyplot as plt\n",
    "\n",
    "plt.plot(y[:,0],y[:,1])\n",
    "plt.xlabel('Rabbit')\n",
    "plt.ylabel('Wolf')\n"
   ]
  },
  {
   "cell_type": "markdown",
   "metadata": {},
   "source": [
    "Exercises\n",
    "======\n",
    "1. Discussion\n",
    "---------------\n",
    "* What are the characteristics of an ODE system, can you find possible applications?\n",
    "* When you look at our zombie example, what shortcomings can you find?"
   ]
  },
  {
   "cell_type": "markdown",
   "metadata": {},
   "source": [
    "\n",
    "\n",
    "2. Implement the Goldbeter model:\n",
    "---------------\n",
    "![Goldbeter model](goldbeter.jpg)\n",
    "\n",
    "$\\frac{\\mathrm{d}C}{\\mathrm{d}t}=v_i-v_dX\\frac{C}{K_d+C}-k_dC$\n",
    "\n",
    "$\\frac{\\mathrm{d}M}{\\mathrm{d}t}=V_1\\frac{1-M}{K_1+(1-M)}-V_2\\frac{M}{K_2+M}$\n",
    "\n",
    "$\\frac{\\mathrm{d}X}{\\mathrm{d}t}=V_3\\frac{1-X}{K_3+(1-X)}-V_4\\frac{X}{K_4+X}$\n",
    "\n",
    "\n",
    "with $V_1=\\frac{C}{K_c+C}V_{M1}$ and $V_3=MV_{M3}$ \n",
    "\n",
    "and $M+M^*=1$ and $X+X^*=1$\n",
    "\n",
    "### Tasks:\n",
    "\n",
    "* Plot the trajectories and the phase space diagrams\n",
    "* Perform parameter sampling (20 random parameter sets for the interval [0, 1] ) and plot trajectories and phase space diagrams for each parameter set\n",
    "* Scan the parameter 'Kd' in a range where the solution oscillates (~20 values) and plot trajectories and phase space diagrams for each parameter set\n",
    "* Determine frequency and amplitude of those solutions and plot them in dependency of the 'Kd'"
   ]
  },
  {
   "cell_type": "markdown",
   "metadata": {},
   "source": [
    "# Solution"
   ]
  },
  {
   "cell_type": "code",
   "execution_count": null,
   "metadata": {
    "collapsed": true
   },
   "outputs": [],
   "source": [
    "def f(y,t,p):\n",
    "\n",
    "    V1 = y[0]/(p['Kc']+y[0])\n",
    "    V3 = y[1]*p['V_M3']\n",
    "    \n",
    "    dydt = np.zeros(3)\n",
    "    # dC/dt\n",
    "    dydt[0] = p['vi'] -p['vd']*y[2]*y[0]/(p['Kd']+y[0]) -p['kd']*y[0]\n",
    "    # dM/dt\n",
    "    dydt[1] = V1*(1-y[1])/(p['Ki']+(1-y[1])) -p['V2']*y[1]/(p['Ki']+y[1])\n",
    "    # dX/dt\n",
    "    dydt[2] = V3*(1-y[2])/(p['Ki']+(1-y[2])) -p['V4']*y[2]/(p['Ki']+y[2])\n",
    "    \n",
    "    return dydt\n",
    "    "
   ]
  },
  {
   "cell_type": "code",
   "execution_count": null,
   "metadata": {
    "collapsed": false
   },
   "outputs": [],
   "source": [
    "p = {'vi':0.023, \n",
    "     'vd':0.1, \n",
    "     'Kd':0.02, \n",
    "     'kd':3e-3, \n",
    "     'Ki':0.1, \n",
    "     'V_M1':0.5, \n",
    "     'V2':0.167, \n",
    "     'V_M3':0.2, \n",
    "     'V4':0.1, \n",
    "     'Kc':0.3}\n",
    "\n",
    "# initial values of variables\n",
    "y0 = np.zeros(3)\n",
    "# C(t=0)\n",
    "y0[0] = 0.01\n",
    "# M(t=0)\n",
    "y0[1] = 0.01\n",
    "# X(t=0)\n",
    "y0[2] = 0.01\n",
    "\n",
    "# time grid\n",
    "t = np.linspace(0,300,500)"
   ]
  },
  {
   "cell_type": "code",
   "execution_count": null,
   "metadata": {
    "collapsed": false
   },
   "outputs": [],
   "source": [
    "# solve ODE using odeint\n",
    "y = odeint(f, y0, t, (p,))"
   ]
  },
  {
   "cell_type": "code",
   "execution_count": null,
   "metadata": {
    "collapsed": false
   },
   "outputs": [],
   "source": [
    "%matplotlib inline\n",
    "import matplotlib.pyplot as plt\n",
    "\n",
    "plt.plot(t,y)\n",
    "plt.xlabel('Time')\n",
    "plt.ylabel('Concentration')\n",
    "plt.legend(['C','M','X'])"
   ]
  },
  {
   "cell_type": "code",
   "execution_count": null,
   "metadata": {
    "collapsed": false
   },
   "outputs": [],
   "source": [
    "%matplotlib inline\n",
    "import matplotlib.pyplot as plt\n",
    "\n",
    "plt.plot(y[:,0],y[:,1])\n",
    "plt.xlabel('C')\n",
    "plt.ylabel('M')\n"
   ]
  },
  {
   "cell_type": "code",
   "execution_count": null,
   "metadata": {
    "collapsed": false
   },
   "outputs": [],
   "source": [
    "t = np.linspace(0,1000,5000)\n",
    "for i in range(20):\n",
    "    for pi in p:\n",
    "        p[pi] = np.random.rand()\n",
    "    y = odeint(f, y0, t, (p,))\n",
    "    plt.plot(y[:,0],y[:,1])\n"
   ]
  },
  {
   "cell_type": "code",
   "execution_count": null,
   "metadata": {
    "collapsed": false
   },
   "outputs": [],
   "source": [
    "t = np.linspace(0,100,500)\n",
    "p = {'vi':0.023, \n",
    "     'vd':0.1, \n",
    "     'Kd':0.02, \n",
    "     'kd':3e-3, \n",
    "     'Ki':0.1, \n",
    "     'V_M1':0.5, \n",
    "     'V2':0.167, \n",
    "     'V_M3':0.2, \n",
    "     'V4':0.1, \n",
    "     'Kc':0.3}\n",
    "\n",
    "p_scan = np.logspace(-2,-1,20)\n",
    "\n",
    "plt.figure(figsize=(20,10))\n",
    "\n",
    "for pi in p_scan:\n",
    "    p['Kd'] = pi\n",
    "    y = odeint(f, y0, t, (p,))\n",
    "    plt.subplot(2,2,1)\n",
    "    plt.plot(t,y)\n",
    "\n",
    "    plt.subplot(2,2,2)\n",
    "    plt.plot(y[:,0],y[:,1])\n",
    "    \n",
    "    centered_y = y - y.mean(axis=0)\n",
    "    \n",
    "    \n",
    "    plt.subplot(2,2,3)\n",
    "    plt.plot(t,centered_y[:,0])    "
   ]
  },
  {
   "cell_type": "code",
   "execution_count": null,
   "metadata": {
    "collapsed": true
   },
   "outputs": [],
   "source": []
  }
 ],
 "metadata": {
  "kernelspec": {
   "display_name": "Python 3",
   "language": "python",
   "name": "python3"
  },
  "language_info": {
   "codemirror_mode": {
    "name": "ipython",
    "version": 3
   },
   "file_extension": ".py",
   "mimetype": "text/x-python",
   "name": "python",
   "nbconvert_exporter": "python",
   "pygments_lexer": "ipython3",
   "version": "3.5.2"
  }
 },
 "nbformat": 4,
 "nbformat_minor": 0
}
