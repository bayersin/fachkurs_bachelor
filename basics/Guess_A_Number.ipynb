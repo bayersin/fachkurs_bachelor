{
 "cells": [
  {
   "cell_type": "code",
   "execution_count": 2,
   "metadata": {
    "collapsed": true
   },
   "outputs": [],
   "source": [
    "from random import randint"
   ]
  },
  {
   "cell_type": "code",
   "execution_count": null,
   "metadata": {
    "collapsed": false
   },
   "outputs": [],
   "source": [
    "def guess_a_number():\n",
    "    \"\"\"Game to guess a number the computer randomly generated.\"\"\"\n",
    "\n",
    "    random_number = randint(0, 100)\n",
    "\n",
    "    demo_or_play = str(input(\"Do you want the computer to guess the number? If so, say 'demo'! \"))\n",
    "    if demo_or_play == 'demo':\n",
    "        demo_a_number(random_number)\n",
    "    else:\n",
    "        guess = check_raw(\"Please enter an integer between 0 and 100: \")\n",
    "        count_guesses = 1\n",
    "        while guess != random_number:\n",
    "            count_guesses = count_guesses + 1\n",
    "            guess = evaluate_my_number(guess, random_number)\n",
    "        else:\n",
    "            print(('Hooray! Your guess is right!\\nYou needed {} guesses.'.format(count_guesses)))\n",
    "\n",
    "    new_game = str(input(\"Do you want to play again? If so, say 'yes'! \"))\n",
    "    if new_game == 'yes':\n",
    "        guess_a_number()\n",
    "    else:\n",
    "        print('Goodbye!')\n",
    "\n",
    "\n",
    "def evaluate_my_number(guess, random_number):\n",
    "    \"\"\"Is the guess to high or to low? Guess again!\"\"\"\n",
    "\n",
    "    if guess < random_number:\n",
    "        print('Too low!', end=' ')\n",
    "    else:\n",
    "        print('Too high!', end=' ')\n",
    "   \n",
    "    guess = check_raw()\n",
    "    return guess\n",
    "\n",
    "\n",
    "def check_raw(print_string='Please try again: '):\n",
    "    \"\"\"Gets the string, raw_input should print, checks and returns the input.\"\"\"\n",
    "\n",
    "    try:\n",
    "        checked_int = int(input(print_string))\n",
    "        if checked_int < 0 or checked_int > 100:\n",
    "            print('Your number has to be between 0 and 100!', end=' ')\n",
    "            checked_int = check_raw()\n",
    "    except ValueError:\n",
    "        print('That was not an integer!', end=' ')\n",
    "        checked_int = check_raw()\n",
    "\n",
    "    return checked_int\n",
    "\n",
    "\n",
    "def demo_a_number(random_number):\n",
    "    \"\"\"The computer tries to guess the number\"\"\"\n",
    "\n",
    "    current_number = 50\n",
    "    lower_bound = 0\n",
    "    upper_bound = 100\n",
    "\n",
    "    count_computer_guesses = 1\n",
    "    while current_number != random_number:\n",
    "        count_computer_guesses = count_computer_guesses + 1\n",
    "        print(('The computer guessed {}'.format(current_number)))\n",
    "        if current_number < random_number:\n",
    "            print('That was too low.')\n",
    "            lower_bound = current_number\n",
    "        else:\n",
    "            print('That was too low.')\n",
    "            upper_bound = current_number\n",
    "        current_number = (lower_bound + upper_bound) // 2\n",
    "    else:\n",
    "        print(('The computer guessed {}\\nThat was right! \\\n",
    "        After {} guesses'.format(current_number, count_computer_guesses)))\n",
    "\n",
    "\n",
    "guess_a_number()"
   ]
  }
 ],
 "metadata": {
  "kernelspec": {
   "display_name": "Python 3",
   "language": "python",
   "name": "python3"
  },
  "language_info": {
   "codemirror_mode": {
    "name": "ipython",
    "version": 3
   },
   "file_extension": ".py",
   "mimetype": "text/x-python",
   "name": "python",
   "nbconvert_exporter": "python",
   "pygments_lexer": "ipython3",
   "version": "3.5.2"
  }
 },
 "nbformat": 4,
 "nbformat_minor": 1
}
