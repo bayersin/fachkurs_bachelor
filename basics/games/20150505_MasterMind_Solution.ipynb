{
 "cells": [
  {
   "cell_type": "markdown",
   "metadata": {},
   "source": [
    "# Master Mind - Solution\n",
    "### Taken from Stack Overflow, modified by Jens Hahn\n",
    "#### http://stackoverflow.com/questions/15648407/python-mastermind-game-troubles"
   ]
  },
  {
   "cell_type": "code",
   "execution_count": null,
   "metadata": {},
   "outputs": [],
   "source": [
    "import random\n",
    "\n",
    "def main():\n",
    "    print('>> New game started.\\n>> Good luck!\\n')\n",
    "    answer = generateAnswer()\n",
    "    while True:\n",
    "        userGuess = getUserGuess()\n",
    "        if userGuess == answer:\n",
    "            print('>> Congratulations, you won!')\n",
    "            return\n",
    "        else: \n",
    "            print('>> The answer you provided is incorrect.\\n>> Perhaps this hint will help you: ')\n",
    "            giveFeedback(answer, userGuess)\n",
    "\n",
    "def generateAnswer():\n",
    "    digits = [str(x) for x in range(10)]\n",
    "    answer = ''\n",
    "    for i in range(4):\n",
    "        digit = random.sample(digits, 1)[0]\n",
    "        digits.remove(digit)\n",
    "        answer += digit\n",
    "    return answer\n",
    "\n",
    "def getUserGuess():\n",
    "    while True:\n",
    "        guess = input('>> Please enter a 4-digit number: ').strip()\n",
    "        if len(guess) != 4:\n",
    "            continue\n",
    "        guessIsValid = True\n",
    "        for x in guess:\n",
    "            if guess.count(x) != 1 or ord(x) not in range(48, 58):\n",
    "                guessIsValid = False\n",
    "                break\n",
    "        if guessIsValid:\n",
    "            return guess\n",
    "    \n",
    "def giveFeedback(answer, guess):\n",
    "    for i in range(4):\n",
    "        if guess[i] == answer[i]:\n",
    "            print('X', end='')\n",
    "            continue\n",
    "        if guess[i] in answer:\n",
    "            print('O', end='')\n",
    "            continue\n",
    "        print('-', end=''),\n",
    "    print('\\n')\n",
    "\n",
    "if __name__ == '__main__':\n",
    "    main()"
   ]
  }
 ],
 "metadata": {
  "kernelspec": {
   "display_name": "Python 3",
   "language": "python",
   "name": "python3"
  },
  "language_info": {
   "codemirror_mode": {
    "name": "ipython",
    "version": 3
   },
   "file_extension": ".py",
   "mimetype": "text/x-python",
   "name": "python",
   "nbconvert_exporter": "python",
   "pygments_lexer": "ipython3",
   "version": "3.5.2"
  }
 },
 "nbformat": 4,
 "nbformat_minor": 1
}
