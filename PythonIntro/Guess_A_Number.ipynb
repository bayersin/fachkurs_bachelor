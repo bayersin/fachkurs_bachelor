{
 "cells": [
  {
   "cell_type": "code",
   "execution_count": 2,
   "metadata": {
    "collapsed": true
   },
   "outputs": [],
   "source": [
    "from random import randint"
   ]
  },
  {
   "cell_type": "code",
   "execution_count": null,
   "metadata": {
    "collapsed": false
   },
   "outputs": [],
   "source": [
    "def guess_a_number():\n",
    "    \"\"\"Game to guess a number the computer randomly generated.\"\"\"\n",
    "    \n",
    "    # TODO:\n",
    "    # generate a random number (uniformly distributed between 0 and 100)\n",
    "    # read input from the user and validate that the input is numeric (use the function check_raw)\n",
    "    # check whether the number was guessed \n",
    "    # implement the functions evaluate_my_number, which checks whether the number is too high or too low\n",
    "    # and print this information to the user\n",
    "    # let the computer guess, therefore implement the demo_a_number function\n",
    "\n",
    "\n",
    "\n",
    "def evaluate_my_number(guess, random_number):\n",
    "    \"\"\"Is the guess to high or to low? Guess again!\"\"\"\n",
    "    return checked_int\n",
    "\n",
    "\n",
    "\n",
    "def check_raw(print_string='Please try again: '):\n",
    "    \"\"\"Gets the string, raw_input should print, checks and returns the input.\"\"\"\n",
    "\n",
    "\n",
    "def demo_a_number(random_number):\n",
    "    \"\"\"The computer tries to guess the number\"\"\"\n",
    "\n",
    "\n",
    "\n",
    "guess_a_number()"
   ]
  }
 ],
 "metadata": {
  "kernelspec": {
   "display_name": "Python 3",
   "language": "python",
   "name": "python3"
  },
  "language_info": {
   "codemirror_mode": {
    "name": "ipython",
    "version": 3
   },
   "file_extension": ".py",
   "mimetype": "text/x-python",
   "name": "python",
   "nbconvert_exporter": "python",
   "pygments_lexer": "ipython3",
   "version": "3.5.2"
  }
 },
 "nbformat": 4,
 "nbformat_minor": 1
}
