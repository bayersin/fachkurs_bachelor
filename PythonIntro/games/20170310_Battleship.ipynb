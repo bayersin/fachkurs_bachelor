{
 "cells": [
  {
   "cell_type": "markdown",
   "metadata": {},
   "source": [
    "## Battleship\n",
    "10/03/2017 - Zoe Junginger & Jens Hahn\n",
    "\n",
    "#### 1. Initialise \n",
    "    * Define ships (length and number of ships)    \n",
    "    * Define playing field    \n",
    "    Set playing field 10x10 ```np.chararray((10,10), unicode=True)```     \n",
    "    Put ```'O'``` on field 0x0 ```field[0,0] = 'O'```    \n",
    "#### 2. Let computer put the ships on the playing field    \n",
    "    * Use random number generator to place ships and orientated them (not diagonal)    \n",
    "    Get a random number 0 <= x < 11 ```np.random.randint(0,11)```    \n",
    "#### 3. Play the game    \n",
    "    * Put your ships on the field ```input('where to place submarine?')```    \n",
    "    * Let the computer shoot    \n",
    "    * Shoot on the computer field"
   ]
  },
  {
   "cell_type": "code",
   "execution_count": null,
   "metadata": {},
   "outputs": [],
   "source": [
    "import numpy as np\n",
    "# which ships and how long are they?\n",
    "# battleship, carrier, cruiser, submarine, destroyer\n",
    "ships = {'B': 4, 'T': 5, 'C': 3, 'S':3, 'D': 2}"
   ]
  },
  {
   "cell_type": "code",
   "execution_count": null,
   "metadata": {},
   "outputs": [],
   "source": [
    "def place_ship(ship_length, abbreviation):\n",
    "    \"\"\"Function to place ships on pitch\"\"\"\n",
    "    pos_ship = (np.random.randint(0,10), np.random.randint(0,10-ship_length))  # random position\n",
    "    # check if ships are on a free position\n",
    "    for i in range(ship_length):\n",
    "        if pitch[pos_ship[0], pos_ship[1]+i] != '~':\n",
    "            place_ship(ship_length, abbreviation)\n",
    "            return None\n",
    "    # put abbreviation on pitch\n",
    "    for i in range(ship_length):\n",
    "        pitch[pos_ship[0], pos_ship[1]+i] = abbreviation"
   ]
  },
  {
   "cell_type": "code",
   "execution_count": null,
   "metadata": {},
   "outputs": [],
   "source": [
    "# pitch for the computers ships\n",
    "pitch = np.chararray((10,10), unicode=True)\n",
    "for i in range(10):\n",
    "    for j in range(10):\n",
    "        pitch[i,j] = '~'\n",
    "print(pitch)\n",
    "\n",
    "# pitch for the players ships\n",
    "pitch_player = np.chararray((10,10), unicode=True)\n",
    "for i in range(10):\n",
    "    for j in range(10):\n",
    "        pitch_player[i,j] = '~'\n",
    "        \n",
    "# pitch for the player to see the player shots \n",
    "pitch_computer = np.chararray((10,10), unicode=True)\n",
    "for i in range(10):\n",
    "    for j in range(10):\n",
    "        pitch_computer[i,j] = '~'"
   ]
  },
  {
   "cell_type": "code",
   "execution_count": null,
   "metadata": {},
   "outputs": [],
   "source": [
    "for ship in ships:\n",
    "    place_ship(ships[ship], ship)"
   ]
  },
  {
   "cell_type": "code",
   "execution_count": null,
   "metadata": {},
   "outputs": [],
   "source": [
    "positions = {}\n",
    "positions['S'] = input (\"where to place submarine (3)? \")\n",
    "positions['T'] = input (\"where to place Carrier (5)? \")\n",
    "positions['B'] = input (\"where to place Battleship (4)? \")\n",
    "positions['C'] = input (\"where to place Cruiser (3)? \")\n",
    "positions['D'] = input (\"where to place destroyer (2)? \")"
   ]
  },
  {
   "cell_type": "code",
   "execution_count": null,
   "metadata": {},
   "outputs": [],
   "source": [
    "# test positions\n",
    "positions = {'S': '0,0', 'T': '1,0', 'B': '2,0', 'C': '3,0', 'D':'4,0'}"
   ]
  },
  {
   "cell_type": "code",
   "execution_count": null,
   "metadata": {},
   "outputs": [],
   "source": [
    "for ship in positions:\n",
    "    positions[ship] = positions[ship].split(',')\n",
    "    for i in range(ships[ship]):\n",
    "        pitch_player[int(positions[ship][0]), int(positions[ship][1])+i] = ship"
   ]
  },
  {
   "cell_type": "code",
   "execution_count": null,
   "metadata": {},
   "outputs": [],
   "source": [
    "print(pitch_player)"
   ]
  },
  {
   "cell_type": "code",
   "execution_count": null,
   "metadata": {},
   "outputs": [],
   "source": [
    "def computer_round():\n",
    "    shots = []\n",
    "    target = (np.random.randint(0,10), np.random.randint(0,10))\n",
    "    while target in shots:\n",
    "        target = (np.random.randint(0,10), np.random.randint(0,10))\n",
    "    print('I shoot at ' + str(target))\n",
    "    if pitch_player[target[0], target[1]] != '~':\n",
    "        pitch_player[target[0], target[1]] = 'X'\n",
    "    shots.append(target)\n",
    "    destroyed = []\n",
    "    for ship in ships:\n",
    "        if not ship in pitch_player:\n",
    "            destroyed.append(ship)\n",
    "    if len(destroyed) == len(ships):\n",
    "        print(\"YOU LOST!! MUHAHA\")\n",
    "        return True"
   ]
  },
  {
   "cell_type": "code",
   "execution_count": null,
   "metadata": {},
   "outputs": [],
   "source": [
    "def player_round():\n",
    "    print(pitch_computer)\n",
    "    target = input('Target?')\n",
    "    target = target.split(',')\n",
    "    if pitch[int(target[0]), int(target[1])] == '~':\n",
    "        print('You missed!')\n",
    "        pitch_computer[int(target[0]), int(target[1])] = 'o'\n",
    "    else:\n",
    "        print('HIT!')\n",
    "        pitch_computer[int(target[0]), int(target[1])] = 'X'\n",
    "        pitch[int(target[0]), int(target[1])] = 'X'\n",
    "    destroyed = []\n",
    "    for ship in ships:\n",
    "        if not ship in pitch:\n",
    "            destroyed.append(ship)\n",
    "    if len(destroyed) == len(ships):\n",
    "        print(\"YOU WON... :.|\")   \n",
    "        return True"
   ]
  },
  {
   "cell_type": "code",
   "execution_count": null,
   "metadata": {},
   "outputs": [],
   "source": [
    "game = True\n",
    "while game:\n",
    "    pc = computer_round()\n",
    "    if pc == True:\n",
    "        break\n",
    "    player = player_round()\n",
    "    if player_round() == True:\n",
    "        break\n",
    "print('Computers pitch:\\n', pitch)\n",
    "print('Players pitch:\\n', pitch_player)"
   ]
  },
  {
   "cell_type": "code",
   "execution_count": null,
   "metadata": {},
   "outputs": [],
   "source": []
  }
 ],
 "metadata": {
  "kernelspec": {
   "display_name": "Python 3",
   "language": "python",
   "name": "python3"
  },
  "language_info": {
   "codemirror_mode": {
    "name": "ipython",
    "version": 3
   },
   "file_extension": ".py",
   "mimetype": "text/x-python",
   "name": "python",
   "nbconvert_exporter": "python",
   "pygments_lexer": "ipython3",
   "version": "3.5.2"
  }
 },
 "nbformat": 4,
 "nbformat_minor": 2
}
