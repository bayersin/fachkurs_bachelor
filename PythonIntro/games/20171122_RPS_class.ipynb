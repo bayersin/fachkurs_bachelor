{
 "cells": [
  {
   "cell_type": "markdown",
   "metadata": {},
   "source": [
    "### Rock, Paper, Scissors\n",
    "#### Jorin Diemer, Jens Hahn  -  WS 2017"
   ]
  },
  {
   "cell_type": "code",
   "execution_count": null,
   "metadata": {},
   "outputs": [],
   "source": [
    "import numpy as np\n",
    "\n",
    "class RockPaperScissors:\n",
    "    def __init__(self):\n",
    "        self.rules = {'rock': {'paper': False, 'scissors': True},\n",
    "                      'paper': {'rock': True, 'scissors': False},\n",
    "                      'scissors': {'rock': False, 'paper': True}}\n",
    "        self.score = [0,0]\n",
    "        \n",
    "    def computer_choice(self):\n",
    "        choice = np.random.choice(list(self.rules))\n",
    "        return choice\n",
    "\n",
    "    def user_choice(self):\n",
    "        choice = None\n",
    "        while not choice in self.rules:\n",
    "            choice = input('Choose \"rock\", \"paper\", or \"scissors\":')\n",
    "        return choice\n",
    "\n",
    "    def evaluate(self):\n",
    "        human_choice = self.user_choice()\n",
    "        pc_choice = self.computer_choice()\n",
    "        if human_choice == pc_choice:\n",
    "            print('Tied game.')\n",
    "        elif self.rules[human_choice][pc_choice]:\n",
    "            print('You won!')\n",
    "            self.score[0] += 1\n",
    "        else:\n",
    "            print('You lost!')\n",
    "            self.score[1] += 1\n",
    "            \n",
    "    def start(self, rounds=5):\n",
    "        while self.score[0] < rounds//2 + 1 and self.score[1] < rounds//2 + 1:\n",
    "            self.evaluate()"
   ]
  },
  {
   "cell_type": "code",
   "execution_count": null,
   "metadata": {},
   "outputs": [],
   "source": [
    "game = RockPaperScissors()\n",
    "game.start()"
   ]
  },
  {
   "cell_type": "raw",
   "metadata": {},
   "source": []
  }
 ],
 "metadata": {
  "kernelspec": {
   "display_name": "Python 3",
   "language": "python",
   "name": "python3"
  },
  "language_info": {
   "codemirror_mode": {
    "name": "ipython",
    "version": 3
   },
   "file_extension": ".py",
   "mimetype": "text/x-python",
   "name": "python",
   "nbconvert_exporter": "python",
   "pygments_lexer": "ipython3",
   "version": "3.5.2"
  }
 },
 "nbformat": 4,
 "nbformat_minor": 2
}
