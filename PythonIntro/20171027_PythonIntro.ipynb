{
 "cells": [
  {
   "cell_type": "markdown",
   "metadata": {},
   "source": [
    "## Introduction to Python\n",
    "Maria Dost, Jorin Diemer, Jens Hahn  -  27/10/2017"
   ]
  },
  {
   "cell_type": "markdown",
   "metadata": {},
   "source": [
    "<a id='content' />\n",
    "\n",
    "## Content\n",
    "1. <a href=#intro>Introduction</a>\n",
    "    * Python version\n",
    "    * Ways to write Python\n",
    "2. <a href=#object>Everything is an object</a>\n",
    "    * Objects, instances, methods, attributes\n",
    "    * References, Mutable and Immutable objects \n",
    "3. <a href=#datatypes>Standard data types</a>\n",
    "    * Numeric: ```int```, ```float```, ```complex```\n",
    "    * Sequence: list, tuple\n",
    "    * Boolean: True/False\n",
    "    * Text: String\n",
    "4. <a href=#flowcontrol>Operators and Flow Control</a>\n",
    "    * Mathematical and Logical Operators\n",
    "    * ```for```\n",
    "    * ```if```/```else```/```elif```\n",
    "    * ```while```\n",
    "5. <a href=#functions>Functions and Methods</a>\n",
    "    * Definition\n",
    "    * Return\n",
    "6. <a href=#classes>Classes, Objects, and Instances</a>\n",
    "    * Definition\n",
    "    * Instances\n",
    "7. <a href=#literature>Literature & Links</a>"
   ]
  },
  {
   "cell_type": "markdown",
   "metadata": {},
   "source": [
    "***\n",
    "<a id='intro' />\n",
    "### Introduction\n",
    "#### Python 2 or Python 3?\n",
    "<a href=#content>back</a>    \n",
    "\n",
    "Short version: Python 2.x is legacy, Python 3.x is the present and future of the language\n",
    "final \n",
    "\n",
    "* 2.x version 2.7 was released 2010\n",
    "* 3.0 was released in 2008\n",
    "* 3.4 was released 2014\n",
    "* recent standard library improvements are only available in 3.x\n",
    "    \n",
    "    \n",
    "***\n",
    "\n",
    "#### Software\n",
    "A python interactive mode makes it easy to test short snippets of code, but there are also a bunch of editors like Sublime Text available as well as bundled development environments IDEs like PyCharm.\n",
    "\n",
    "We will use:\n",
    "* [Python](https://www.python.org/)\n",
    "* [IPython](http://ipython.org/)\n",
    "* [Jupyter Notebooks](http://jupyter.org/)\n",
    "    \n",
    "You could use:\n",
    "* an editor of your choice like [Sublime Text](https://www.sublimetext.com/)\n",
    "* an IDE, e.g. [PyCharm](https://www.jetbrains.com/pycharm/), [Eclipse](https://www.eclipse.org/), [spyder](https://pythonhosted.org/spyder/), ...\n",
    "* [Jupyter Notebooks](http://jupyter.org/) in your browser"
   ]
  },
  {
   "cell_type": "markdown",
   "metadata": {},
   "source": [
    "***\n",
    "<a id='object'/>\n",
    "\n",
    "## Everything is an object    \n",
    "<a href=#content>back</a>\n",
    "\n",
    "* Python is an object oriented programming language\n",
    "* Objects are instances of classes\n",
    "* Class = Blueprint of an object\n",
    "* many objects can be made of the same class\n",
    "\n",
    "Analogy: Blueprint of a house\n",
    "\n",
    "* All classes have attributes\n",
    "* attributes can be either data or methods\n",
    "* method = functions, which belong to this object\n",
    "\n",
    "Example: the data type integer is a class\n",
    "\n",
    "* defining a variable (a = 5) makes an object (a) of class ```int```\n",
    "* ```int``` has functions defined, for example ```+```"
   ]
  },
  {
   "cell_type": "markdown",
   "metadata": {},
   "source": [
    "***\n",
    "<a id='datatypes'/>\n",
    "## Standard Data Types\n",
    "<a href=#content>back</a>\n",
    "\n",
    "* Datatypes are classes -> Variables are instances (objects) of these classes\n",
    "* \"Ready to use\" classes\n",
    "\n",
    "### Numerical Data Types\n",
    "\n",
    "* Python has integers, floating point numbers and complex numbers\n",
    "* Python assigns a data type to each variable -> 1 is an int, 1.0 is a float\n",
    "* Mathematical and Logical Operators can be used, e.g.\n",
    "          a = 5\n",
    "          b = 6\n",
    "          c = a + b\n",
    "    \n",
    "### Sequence Data Types\n",
    "\n",
    "#### List\n",
    "\n",
    "* List is an ordered sequence of items\n",
    "* items don't have to be of the same type\n",
    "* Definition of a list: lista = [5, 3.0, 'Hello']\n",
    "* Indexing starts from 0\n",
    "* an operator can be used to extract elements from the list, e.g. lista[2] would equal Hello\n",
    "    \n",
    "#### Tuple\n",
    "\n",
    "* Tuples a immutable lists -> can't be changed once created\n",
    "* Definition of a tuple: tuple_a = (5 , 3.0, 'Hello')\n",
    "    \n",
    "### Boolean \n",
    "\n",
    "* A Boolean can only hold the values ```true``` or ```false```\n",
    "* can be compared by logical operators\n",
    "    \n",
    "### String\n",
    "\n",
    "* String is a sequence of characters\n",
    "* Strings can be single line ( 'This is a String' ) or multiline (''' This is a String )\n",
    "* an operator can be used to extract elements from a String, e.g. [2]\n",
    "* Strings are immutable\n",
    "   "
   ]
  },
  {
   "cell_type": "markdown",
   "metadata": {},
   "source": [
    "***\n",
    "<a id='flowcontrol'/>\n",
    "## Operators and Flow control\n",
    "\n",
    "<a href=#content>back</a>\n",
    "\n",
    "### Operators\n",
    "\n",
    "#### Arithmetic Operators\n",
    "\n",
    "* Used for mathematical operations\n",
    "* plus (+), minus (-), add (*), divide (/), modulus (%), raise (**)\n",
    "    \n",
    "#### Comparison Operators\n",
    "\n",
    "* Used to compare two values\n",
    "* return TRUE or FALSE as result\n",
    "* Greater than (>), lesser than (<), equal (==), not equal (!=)\n",
    "* Attention! = is an assignment, == is the comparison operator\n",
    "    \n",
    "#### Logical Operators\n",
    "\n",
    "* Used to connect logical statements\n",
    "* ```and```, ```or``` and ```not```\n",
    "    \n",
    "### Flow Control\n",
    "\n",
    "#### ```for``` Loop\n",
    "\n",
    "* the ```for``` loop is used to iterate over a sequence\n",
    "\n",
    "        for x in y\n",
    "            counter = counter +1\n",
    "            \n",
    "* loop continues until it reaches last item in y\n",
    "* Example: Sum of numbers\n",
    "\n",
    "         #List of numbers\n",
    "         numbers = [6, 5, 3, 8, 4, 2, 5, 4, 11]\n",
    "\n",
    "         #variable to store the sum\n",
    "         sum = 0\n",
    "\n",
    "         #iterate over the list\n",
    "         for val in numbers:\n",
    "             sum = sum+val\n",
    "             \n",
    "#### ```if```/```elif```/```else```\n",
    "\n",
    "* these are used to make decisions in a program\n",
    "\n",
    "        if test expression:\n",
    "            statement(s)\n",
    "* expression is evaluated, if ```true```, statement(s) will be executed, if ```false```, nothing will be executed\n",
    "\n",
    "        if test expression:\n",
    "            Body of if\n",
    "        else:\n",
    "            Body of else\n",
    "* expression in ```if``` is evaluated, if ```true```, statement(s) in ```if``` will be executed, otherwise statements in ```else``` will be executed\n",
    "\n",
    "        if test expression:\n",
    "            Body of if\n",
    "        elif test expression:\n",
    "            Body of elif\n",
    "        else: \n",
    "            Body of else\n",
    "* ```elif``` is short for else if\n",
    "* expression in ```if``` is evaluated, if ```true```, statement(s) in ```if``` will be executed, otherwise statements in ```elif``` will be checked\n",
    "\n",
    "####  ```while``` Loop\n",
    "\n",
    "* ```while``` iterates over a block of code, as long as a statement is true\n",
    "* is used when the number of times the loop has to be executed is not known beforehand (compare: ```for``` loop)\n",
    "\n",
    "        while test_expression:\n",
    "            Body of while\n",
    "\n",
    "* expression is checked first, before loop is entered\n"
   ]
  },
  {
   "cell_type": "markdown",
   "metadata": {},
   "source": [
    "***\n",
    "<a id='functions'/>\n",
    "## Functions and Methods\n",
    "<a href=#content>back</a>\n",
    "\n",
    "### Functions\n",
    "\n",
    "* A function is a group of statements, which perform a specific task\n",
    "* Functions break a program into smaller pieces, making it easier to organize large programs\n",
    "* Make code reusable\n",
    "\n",
    "        def function_name(parameters):\n",
    "            \"\"\"docstring\"\"\"\n",
    "            statement(s)\n",
    "\n",
    "* def is the keyword for the function definition\n",
    "* parameters are variables which are passed to the function when calling it\n",
    "* docstring contains a description of what the function does\n",
    "* statements are the tasks performed by the function\n",
    "* function can have a return statement, if a value is given back by the function\n",
    "\n",
    "#### Example of a Function \n",
    "\n",
    "        def add(num1,num2):\n",
    "            \"\"\"This function adds two numbers\"\"\"\n",
    "\n",
    "            return num1+num2\n",
    "                \n",
    "* to call this function, we need to type the function name and the parameter\n",
    "        print(add(2,3))\n",
    "* if you don't now what a function does, you can call the docstring\n",
    "        print(add.__doc__)\n",
    "* the return statement exits a function and returns to the place in the program, where the function was called\n",
    "\n",
    "#### Parameters inside the Function\n",
    "\n",
    "* A variable defined inside a function is not visible outside the function\n",
    "\n",
    "        def func():\n",
    "            x = 10\n",
    "\n",
    "        x = 20\n",
    "\n",
    "* the x inside func is not visible outside, so they can have the same name\n",
    "* x inside func is a local variable inside the function \n",
    "\n",
    "### Methods = Function inside a class\n"
   ]
  },
  {
   "cell_type": "markdown",
   "metadata": {},
   "source": [
    "***\n",
    "<a id='classes'/>\n",
    "## Classes, Objects, Instances\n",
    "<a href=#content>back</a>"
   ]
  },
  {
   "cell_type": "code",
   "execution_count": 7,
   "metadata": {
    "collapsed": true
   },
   "outputs": [],
   "source": [
    "class Dog():\n",
    "\n",
    "    def __init__(self, legs=4, name='Lasko', weight=20., bladder_size=1.5, happy=False):\n",
    "        self.legs = legs\n",
    "        self.name = name\n",
    "        self.weight = weight\n",
    "        self.bladder_size = bladder_size\n",
    "        self.happy = happy\n",
    "\n",
    "    def pee(self, vol=0.5):\n",
    "        if self.bladder_size > vol:\n",
    "            self.weight -= vol\n",
    "            self.bladder_size -= vol\n",
    "            self.happy = True\n",
    "            print('{} pees and is happy'.format(self.name))\n",
    "        else:\n",
    "            self.happy = False\n",
    "            print('{} has nothing left and is unhappy'.format(self.name))\n",
    "\n",
    "    def drink(self, vol=0.5):\n",
    "        self.weight += vol\n",
    "        self.bladder_size += vol\n",
    "\n",
    "    def bark(self):\n",
    "        if self.happy:\n",
    "            print('{}: Wuffi'.format(self.name))\n",
    "        else:\n",
    "            print('{}: Grrr'.format(self.name))"
   ]
  },
  {
   "cell_type": "code",
   "execution_count": 8,
   "metadata": {},
   "outputs": [
    {
     "name": "stdout",
     "output_type": "stream",
     "text": [
      "Lasko Gertrude\n",
      "Lasko: Grrr\n",
      "Gertrude: Wuffi\n"
     ]
    }
   ],
   "source": [
    "dog1 = Dog()\n",
    "dog2 = Dog(name='Gertrude', weight=30, bladder_size=20, happy=True)\n",
    "print(dog1.name, dog2.name)\n",
    "dog1.bark()\n",
    "dog2.bark()"
   ]
  },
  {
   "cell_type": "code",
   "execution_count": 9,
   "metadata": {},
   "outputs": [
    {
     "name": "stdout",
     "output_type": "stream",
     "text": [
      "Lasko pees and is happy\n",
      "Lasko: Wuffi\n"
     ]
    }
   ],
   "source": [
    "dog1.pee()\n",
    "dog1.bark()"
   ]
  },
  {
   "cell_type": "markdown",
   "metadata": {},
   "source": [
    "***\n",
    "<a id='literature'/>\n",
    "## Literature & Links\n",
    "<a href=#content>back</a>\n",
    "\n",
    "* [Code Academy](https://www.codeacademy.com) - Interactive online tutorial    \n",
    "* [CheckIO](https://checkio.org/) - Community assignments and games\n",
    "* [Programiz](https://www.programiz.com/) - Good online tutorial\n",
    "* [Python-Course.eu](https://python-course.eu) - Online Course\n",
    "* [Stack Overflow](https://www.stackoverflow.com) - Help Forum\n",
    "* [**edX**](https://www.edx.org/course?search_query=python) - Free lectures\n",
    "* [**Python** Documentation](https://www.python.org/doc/) - Official documentation"
   ]
  },
  {
   "cell_type": "markdown",
   "metadata": {},
   "source": [
    "quizzes"
   ]
  },
  {
   "cell_type": "code",
   "execution_count": 8,
   "metadata": {},
   "outputs": [
    {
     "name": "stdout",
     "output_type": "stream",
     "text": [
      "3 ,  7\n"
     ]
    }
   ],
   "source": [
    "x = 7\n",
    "y = x\n",
    "x = 3\n",
    "print(x,\", \",y)"
   ]
  },
  {
   "cell_type": "code",
   "execution_count": null,
   "metadata": {
    "collapsed": true
   },
   "outputs": [],
   "source": [
    "i = 0\n",
    "while i < 10:  # how many times evaluated\n",
    "    print(i)\n",
    "    i+=1"
   ]
  }
 ],
 "metadata": {
  "kernelspec": {
   "display_name": "Python 3",
   "language": "python",
   "name": "python3"
  },
  "language_info": {
   "codemirror_mode": {
    "name": "ipython",
    "version": 3
   },
   "file_extension": ".py",
   "mimetype": "text/x-python",
   "name": "python",
   "nbconvert_exporter": "python",
   "pygments_lexer": "ipython3",
   "version": "3.5.3"
  }
 },
 "nbformat": 4,
 "nbformat_minor": 2
}
