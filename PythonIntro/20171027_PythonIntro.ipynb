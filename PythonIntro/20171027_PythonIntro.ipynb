{
 "cells": [
  {
   "cell_type": "markdown",
   "metadata": {},
   "source": [
    "## Introduction to Python\n",
    "Maria Dost, Jorin Diemer, Jens Hahn  -  27/10/2017"
   ]
  },
  {
   "cell_type": "markdown",
   "metadata": {},
   "source": [
    "<a id='content' />\n",
    "\n",
    "## Content\n",
    "1. <a href=#intro>Introduction</a>\n",
    "    * Python version\n",
    "    * Ways to write Python\n",
    "    \n",
    "2. <a href=#object>Everything is an object</a>\n",
    "    * Objects, instances, methods, attributes\n",
    "    * References, Mutable and Immutable objects \n",
    "    \n",
    "3. <a href=#datatypes>Standard data types</a>\n",
    "    * Text: String\n",
    "    * Numeric: ```int```, ```float```, ```complex```\n",
    "    * Sequence: list, tuple\n",
    "    * Mapping: dictionary\n",
    "    * Boolean: True/False\n",
    "    \n",
    "    \n",
    "4. <a href=#flowcontrol>Operators and Flow Control</a>\n",
    "    * Mathematical and Logical Operators\n",
    "    * ```for```\n",
    "    * ```if```/```else```/```elif```\n",
    "    * ```while```\n",
    "    \n",
    "5. <a href=#functions>Functions and Methods</a>\n",
    "    * Definition\n",
    "    * Return\n",
    "    \n",
    "6. <a href=#classes>Classes, Objects, and Instances</a>\n",
    "    * Definition\n",
    "    * Instances\n",
    "    \n",
    "7. <a href=#literature>Literature & Links</a>"
   ]
  },
  {
   "cell_type": "markdown",
   "metadata": {},
   "source": [
    "***\n",
    "<a id='intro' />\n",
    "### Introduction\n",
    "#### Python 2 or Python 3?\n",
    "<a href=#content>back</a>    \n",
    "\n",
    "Short version: Python 2.x is legacy, Python 3.x is the present and future of the language\n",
    "final \n",
    "\n",
    "* 2.x version 2.7 was released 2010\n",
    "* 3.0 was released in 2008\n",
    "* 3.4 was released 2014\n",
    "* recent standard library improvements are only available in 3.x\n",
    "    \n",
    "    \n",
    "***\n",
    "\n",
    "#### Software\n",
    "A Python interactive mode makes it easy to test short snippets of code, but there are also a bunch of editors like Sublime Text available as well as bundled development environments IDEs like PyCharm.\n",
    "\n",
    "We will use:\n",
    "* [Python](https://www.python.org/)\n",
    "* [IPython](http://ipython.org/)\n",
    "* [Jupyter Notebooks](http://jupyter.org/)\n",
    "    \n",
    "You could use:\n",
    "* an editor of your choice like [Sublime Text](https://www.sublimetext.com/)\n",
    "* an IDE, e.g. [PyCharm](https://www.jetbrains.com/pycharm/), [Eclipse](https://www.eclipse.org/), [spyder](https://pythonhosted.org/spyder/), ...\n",
    "* [Jupyter Notebooks](http://jupyter.org/) in your browser"
   ]
  },
  {
   "cell_type": "markdown",
   "metadata": {},
   "source": [
    "***\n",
    "<a id='object'/>\n",
    "\n",
    "## Everything is an object    \n",
    "<a href=#content>back</a>\n",
    "\n",
    "* Python is an object oriented programming language\n",
    "* Objects are instances of classes\n",
    "* Class = Blueprint of an object\n",
    "* Many objects can be made of the same class\n",
    "\n",
    "Analogy: Blueprint of a house\n",
    "\n",
    "* All classes have attributes\n",
    "* Attributes can be either data or methods\n",
    "* A method is a function which belongs to an object\n",
    "\n",
    "Example: the data type integer is a class\n",
    "\n",
    "* Defining a variable (```a = 5```) makes an instance (object) of class ```int```\n",
    "* It holds the number 5\n",
    "* The variable ```a``` is a reference to this object\n",
    "* ```int``` has methods defined, for example ```bit_length()```"
   ]
  },
  {
   "cell_type": "markdown",
   "metadata": {},
   "source": [
    "***\n",
    "<a id='datatypes'/>\n",
    "## Standard Data Types\n",
    "<a href=#content>back</a>\n",
    "\n",
    "* Datatypes are classes $\\rightarrow$ Variables are references to instances (objects) of these classes\n",
    "* What do you think are standard data types?\n",
    "* In general we will distinguish between mutable and immutable data types\n",
    "* a mutable object can be changed after it is created, an immutable object can’t\n",
    "\n",
    "---\n",
    "\n",
    "<img src=\"pics/reference_instance_class.png\"  style=\"width: 70%;\"/>\n",
    "\n",
    "### String\n",
    "\n",
    "* String is a sequence of characters\n",
    "* Strings can be single line ( ```'This is a String'``` ) or multiline (```''' This is a String...'''``` )\n",
    "* Indexing can be used to extract elements from a String, e.g. ```my_string[2] == 'i'```\n",
    "* Strings are immutable\n",
    "\n",
    "```python\n",
    "    #create string\n",
    "    typo_str = 'Peeface'\n",
    "    \n",
    "    #Oh no... a typo, not a good way to start a book, so change it\n",
    "    typo_str[1] = 'r'\n",
    "    \n",
    "---------------------------------------------------------------------------\n",
    "TypeError                                 Traceback (most recent call last)\n",
    "<ipython-input-18-a40cf4edfc3f> in <module>()\n",
    "----> 1 typo_str[1] = 'r'\n",
    "\n",
    "TypeError: 'str' object does not support item assignment\n",
    "```\n"
   ]
  },
  {
   "cell_type": "code",
   "execution_count": null,
   "metadata": {},
   "outputs": [],
   "source": [
    "# print something"
   ]
  },
  {
   "cell_type": "markdown",
   "metadata": {},
   "source": [
    "### Numerical Data Types\n",
    "\n",
    "* Python has integers, floating point numbers and complex numbers\n",
    "* Python assigns a data type to each variable $\\rightarrow$ 1 is an ```int```, ```1.0``` is a ```float``` (duck typing)\n",
    "* Mathematical and Logical Operators can be used, e.g.    \n",
    "```a = 5```    \n",
    "```b = 6```    \n",
    "```c = a + b```"
   ]
  },
  {
   "cell_type": "code",
   "execution_count": null,
   "metadata": {},
   "outputs": [],
   "source": [
    "print(c)"
   ]
  },
  {
   "cell_type": "markdown",
   "metadata": {},
   "source": [
    "### Sequence Data Types"
   ]
  },
  {
   "cell_type": "markdown",
   "metadata": {},
   "source": [
    "\n",
    "#### List\n",
    "\n",
    "* List is an ordered sequence of items\n",
    "* Items don't have to be of the same type, because actually it's a list of references\n",
    "* Definition of a list: ```list_a = [5, 3.0, 'Hello']```\n",
    "* Indexing starts from ```0```\n",
    "* Indexing can be used to extract (and set) elements from the list, e.g. ```list_a[2]``` would give ```'Hello'```\n",
    "    \n",
    "```python\n",
    "    #creating the list\n",
    "    list_a = [5, 3.0, 'Hello']\n",
    "    \n",
    "    #extract third element/object and create reference to it\n",
    "    hello_str = list_a[2]\n",
    "    \n",
    "    #mutate list\n",
    "    list_a[2] = 'Good bye'\n",
    "    \n",
    "    #print new list\n",
    "    print(list_a)\n",
    "    \n",
    "```\n",
    "[5, 3.0, 'Good bye']"
   ]
  },
  {
   "cell_type": "code",
   "execution_count": null,
   "metadata": {},
   "outputs": [],
   "source": [
    "# what is hello_str"
   ]
  },
  {
   "cell_type": "code",
   "execution_count": null,
   "metadata": {},
   "outputs": [],
   "source": [
    "# reverse indexing"
   ]
  },
  {
   "cell_type": "code",
   "execution_count": null,
   "metadata": {},
   "outputs": [],
   "source": [
    "# stepwise indexing (start:stop:step)"
   ]
  },
  {
   "cell_type": "markdown",
   "metadata": {},
   "source": [
    "    \n",
    "#### Tuple\n",
    "\n",
    "* Tuples are immutable lists $\\rightarrow$ can't be changed once created\n",
    "* Definition of a tuple: ```tuple_a = (5 , 3.0, 'Hello')```\n",
    "\n",
    "```python\n",
    "    #create tuple\n",
    "    tuple_a = (5, 3.0, 'Hello')\n",
    "    \n",
    "    #extract third element/object and create reference to it\n",
    "    hallo_str = tuple_a[2]\n",
    "    \n",
    "    #mutate it???\n",
    "    tuple_a[2] = 'Good bye'\n",
    "```\n",
    "```python\n",
    "---------------------------------------------------------------------------\n",
    "TypeError                                 Traceback (most recent call last)\n",
    "<ipython-input-16-2ae0e9084ab6> in <module>()\n",
    "----> 1 tuple_a[2] = 'Good bye'\n",
    "\n",
    "TypeError: 'tuple' object does not support item assignment\n",
    "```"
   ]
  },
  {
   "cell_type": "code",
   "execution_count": null,
   "metadata": {},
   "outputs": [],
   "source": []
  },
  {
   "cell_type": "markdown",
   "metadata": {},
   "source": [
    "### Dictionaries\n",
    "\n",
    "* a ```dictionary``` is an unordered collection of key:value pairs\n",
    "* it enables you to map keys and objects\n",
    "* a dictionary is mutable\n",
    "\n",
    "```python\n",
    "my_dict = {'one':1, 'two':2, 'three':3}\n",
    "```\n"
   ]
  },
  {
   "cell_type": "code",
   "execution_count": null,
   "metadata": {},
   "outputs": [],
   "source": [
    "my_dict = {'one':1, 'two':2, 'three':3}\n",
    "print(my_dict['one'])"
   ]
  },
  {
   "cell_type": "code",
   "execution_count": null,
   "metadata": {},
   "outputs": [],
   "source": [
    "# how to test if certain key is in dict\n",
    "print('one' in my_dict)\n",
    "print('four' in my_dict)"
   ]
  },
  {
   "cell_type": "markdown",
   "metadata": {},
   "source": [
    "   \n",
    "### Boolean \n",
    "\n",
    "* A Boolean can only hold the values ```True``` or ```False```\n",
    "* Can be compared by logical operators\n",
    "    \n",
    "\n",
    "   "
   ]
  },
  {
   "cell_type": "markdown",
   "metadata": {},
   "source": [
    "### Mutable vs. Immutable \n",
    "\n"
   ]
  },
  {
   "cell_type": "code",
   "execution_count": null,
   "metadata": {},
   "outputs": [],
   "source": [
    "### example immutable\n",
    "x = 10\n",
    "y = x\n",
    "x = x + 1\n",
    "print('y: ',y)\n",
    "\n",
    "### example mutable\n",
    "x_l = ['10']\n",
    "y_l = x_l\n",
    "x_l.append('11')\n",
    "print('y_l: ', y_l)"
   ]
  },
  {
   "cell_type": "markdown",
   "metadata": {},
   "source": [
    "***\n",
    "<a id='flowcontrol'/>\n",
    "## Operators and Flow control\n",
    "\n",
    "<a href=#content>back</a>\n",
    "\n",
    "### Operators\n",
    "\n",
    "#### Arithmetic Operators\n",
    "\n",
    "* Used for mathematical operations\n",
    "* plus (+), minus (-), multiply (*), divide (/), modulus (%), raise (**)\n",
    "    \n",
    "#### Comparison Operators\n",
    "\n",
    "* Used to compare two values\n",
    "* Returns ```True``` or ```False``` as result\n",
    "* Greater than (>), lesser than (<), equal (==), not equal (!=)\n",
    "* **Attention**: ```=``` is an assignment, ```==``` is the comparison operator\n",
    "    \n",
    "#### Logical Operators\n",
    "\n",
    "* Used to connect logical statements\n",
    "* ```and```, ```or``` and ```not```\n",
    "    \n",
    "### Flow Control\n",
    "\n",
    "#### ```for``` Loop\n",
    "\n",
    "* the ```for``` loop is used to iterate over a sequence\n",
    "```python    \n",
    "for x in y:    \n",
    "    counter = counter +1\n",
    "```\n",
    "            \n",
    "* Loop continues until it reaches last item in y\n",
    "* Example: Sum of numbers\n",
    "```python\n",
    "        # List of numbers\n",
    "        numbers = [6, 5, 3, 8, 4, 2, 5, 4, 11]\n",
    "\n",
    "        # variable to store the sum\n",
    "        sum = 0\n",
    "\n",
    "        # iterate over the list\n",
    "        for val in numbers:\n",
    "            sum = sum + val\n",
    "```\n",
    "\n",
    "#### ```if```/```elif```/```else```\n",
    "\n",
    "* These are used to make decisions in a program\n",
    "```python\n",
    "        if x == 2:  # expression\n",
    "            print(my_string)  # statement\n",
    "```\n",
    "* **expression** is evaluated, if ```True```, **statements** will be executed\n",
    "```python\n",
    "        if x == 2:  # expression\n",
    "            print(my_string)  # body of if\n",
    "        else:\n",
    "            print(your_string)  # body of else\n",
    "```\n",
    "* **expression** is evaluated, if ```True```, statement in **body of if** will be executed, otherwise statement in **body of else** will be executed\n",
    "```python\n",
    "        if x == 2:  # 1st expression\n",
    "            print(my_string)  # body of if\n",
    "        elif x == 3:  # 2nd expression \n",
    "            print(our_string)  # body of elif\n",
    "        else: \n",
    "            print(your_string)  # body of else\n",
    "```\n",
    "* ```elif``` is short for else if\n",
    "* **1st expression** is evaluated, if ```True```, statement in **body of if** will be executed, otherwise **2nd expression** will be checked and so on...\n",
    "\n",
    "####  ```while``` Loop\n",
    "\n",
    "* ```while``` iterates over a block of code, as long as a statement is ```True```\n",
    "* Is used when the number of times the loop has to be executed is not known beforehand (compare: ```for``` loop)\n",
    "```python\n",
    "        while x < 2:  # expression\n",
    "            print(our_string)\n",
    "```\n",
    "\n",
    "* **expression** is checked before entering the loop for the first time\n"
   ]
  },
  {
   "cell_type": "markdown",
   "metadata": {},
   "source": [
    "***\n",
    "<a id='functions'/>\n",
    "## Functions and Methods\n",
    "<a href=#content>back</a>\n",
    "\n",
    "### Functions\n",
    "\n",
    "* A function is a group of statements, which perform a specific task\n",
    "* Functions break a program into smaller pieces, making it easier to organize large programs\n",
    "* Make code reusable\n",
    "```python\n",
    "        def my_statement_printer(statements):\n",
    "            \"\"\"This is my docstring:\n",
    "               Function to print my statements\"\"\"\n",
    "            for statement in statements:\n",
    "                print('I think ' + statement)           \n",
    "```\n",
    "* ```def``` is the keyword for the function definition\n",
    "* Parameters or arguments are objects which are passed to the function when calling it\n",
    "* A docstring contains a description of what the function does\n",
    "* In the function body are the tasks performed by the function\n",
    "* Function can have a ```return``` statement, if no return value is given the function returns ```None```\n",
    "\n",
    "#### Example of a Function \n",
    "```python\n",
    "        def add(num1,num2):\n",
    "            \"\"\"This function adds two numbers\"\"\"\n",
    "            return num1 + num2\n",
    "```               \n",
    "* To call this function, we need to type the function name and the arguments\n",
    "```python\n",
    "print(add(2,3))\n",
    "```\n",
    "* If you don't now what a function does, you can call the docstring\n",
    "```python\n",
    "print(add.__doc__)\n",
    "```\n",
    "* The ```return``` statement exits a function\n",
    "\n",
    "#### Parameters inside the Function (Scope)\n",
    "\n",
    "* A variable defined inside a function is not visible outside the function\n",
    "```python\n",
    "def func():\n",
    "    x = 10\n",
    "print(x)\n",
    "```\n",
    "    ```\n",
    "    ---------------------------------------------------------------------------\n",
    "    NameError                                 Traceback (most recent call last)\n",
    "    <ipython-input-3-fc17d851ef81> in <module>()\n",
    "    ----> 1 print(x)\n",
    "    \n",
    "    NameError: name 'x' is not defined\n",
    "    ```\n",
    "* The ```x``` inside ```func``` is not visible outside, so they can have the same name\n",
    "* ```x``` inside func is a local variable inside the function \n",
    "\n",
    "#### Default values\n",
    "\n",
    "```python\n",
    "        def add(num1,num2=1):\n",
    "            \"\"\"This function adds two numbers, if no second number is defined it adds one to num1.\"\"\"\n",
    "            return num1 + num2\n",
    "```   \n",
    "\n",
    "### Methods \n",
    "\n",
    "* A method is a function inside a class\n"
   ]
  },
  {
   "cell_type": "markdown",
   "metadata": {},
   "source": [
    "***\n",
    "<a id='classes'/>\n",
    "## Classes, Objects, Instances\n",
    "<a href=#content>back</a>\n",
    "\n",
    "As already mentioned everything, that means every *thing* in python is an object. \n",
    "An object is an instance of a class, which defines which attributes and methods an object holds. \n",
    "\n",
    "* ```class``` is the keyword for ```class``` definition\n",
    "* a ```class``` holds attributes (data and methods)\n",
    "* using python's ```dir``` argument one can list all methods of an object"
   ]
  },
  {
   "cell_type": "code",
   "execution_count": null,
   "metadata": {},
   "outputs": [],
   "source": [
    "y = 5\n",
    "dir(y)"
   ]
  },
  {
   "cell_type": "markdown",
   "metadata": {},
   "source": [
    "* you see: ```y``` is not only a number, it has a lot of methods which we can use\n",
    "\n",
    "\n"
   ]
  },
  {
   "cell_type": "code",
   "execution_count": null,
   "metadata": {},
   "outputs": [],
   "source": [
    "print(y.bit_length())"
   ]
  },
  {
   "cell_type": "markdown",
   "metadata": {},
   "source": [
    "# Creating your own class\n",
    "\n",
    "\n",
    "\n",
    "<img src=\"pics/cakes.jpg\"  style=\"width: 60%;\"/>\n",
    "\n",
    "\n",
    "###  which ingredients have cakes in general? $\\rightarrow$ data attributes of a class\n",
    "\n",
    "###  what can happen with cakes? $\\rightarrow$ methods of a class\n"
   ]
  },
  {
   "cell_type": "code",
   "execution_count": null,
   "metadata": {},
   "outputs": [],
   "source": [
    "import time\n",
    "\n",
    "class MinimalCake:\n",
    "    \n",
    "    def __init__(self, eier=2, mehl=500, milch=250):\n",
    "        self.eggs = eier\n",
    "        self.flour = mehl\n",
    "        self.milk = milch\n",
    "        self.stirred = False\n",
    "    \n",
    "    def stir(self):\n",
    "        print('stirring...')\n",
    "        time.sleep(2)\n",
    "        print('...dough')\n",
    "        self.stirred = True\n",
    "        "
   ]
  },
  {
   "cell_type": "code",
   "execution_count": null,
   "metadata": {},
   "outputs": [],
   "source": [
    "one_minimal_cake = MinimalCake()\n",
    "print(one_minimal_cake.eggs, one_minimal_cake.stirred)"
   ]
  },
  {
   "cell_type": "code",
   "execution_count": null,
   "metadata": {},
   "outputs": [],
   "source": [
    "one_minimal_cake.stir()\n",
    "print(one_minimal_cake.stirred)"
   ]
  },
  {
   "cell_type": "markdown",
   "metadata": {},
   "source": [
    "Ok, we have dough. But it really doesn't taste well and it can't be baked...\n",
    "That's a disaster, we want choclate and sugar!!\n",
    "\n",
    "Question: \n",
    "Is a MinimalCake object mutable or immutable?\n",
    "\n",
    "Please write another class which holds attributes for choclate, sugar and whatever you want.\n",
    "Further, we should be able to bake it. But attention!!! If it is not stirred, baking it would be a waste."
   ]
  },
  {
   "cell_type": "code",
   "execution_count": null,
   "metadata": {},
   "outputs": [],
   "source": []
  },
  {
   "cell_type": "code",
   "execution_count": null,
   "metadata": {},
   "outputs": [],
   "source": []
  },
  {
   "cell_type": "code",
   "execution_count": null,
   "metadata": {},
   "outputs": [],
   "source": []
  },
  {
   "cell_type": "code",
   "execution_count": null,
   "metadata": {},
   "outputs": [],
   "source": []
  },
  {
   "cell_type": "markdown",
   "metadata": {},
   "source": [
    "***\n",
    "<a id='literature'/>\n",
    "## Literature & Links\n",
    "<a href=#content>back</a>\n",
    "\n",
    "* [Code Academy](https://www.codeacademy.com) - Interactive online tutorial    \n",
    "* [CheckIO](https://checkio.org/) - Community assignments and games\n",
    "* [Programiz](https://www.programiz.com/) - Good online tutorial\n",
    "* [Python-Course.eu](https://python-course.eu) - Online Course\n",
    "* [Stack Overflow](https://www.stackoverflow.com) - Help Forum\n",
    "* [**edX**](https://www.edx.org/course?search_query=python) - Free lectures\n",
    "* [**Python** Documentation](https://www.python.org/doc/) - Official documentation"
   ]
  }
 ],
 "metadata": {
  "kernelspec": {
   "display_name": "Python 3",
   "language": "python",
   "name": "python3"
  },
  "language_info": {
   "codemirror_mode": {
    "name": "ipython",
    "version": 3
   },
   "file_extension": ".py",
   "mimetype": "text/x-python",
   "name": "python",
   "nbconvert_exporter": "python",
   "pygments_lexer": "ipython3",
   "version": "3.4.3"
  }
 },
 "nbformat": 4,
 "nbformat_minor": 2
}
