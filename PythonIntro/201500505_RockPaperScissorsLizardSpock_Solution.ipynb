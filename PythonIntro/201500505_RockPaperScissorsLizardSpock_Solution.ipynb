{
 "cells": [
  {
   "cell_type": "markdown",
   "metadata": {},
   "source": [
    "# Rock, Paper, Scissors - Solution\n",
    "### By Jens Hahn, Jorin Diemer"
   ]
  },
  {
   "cell_type": "code",
   "execution_count": 9,
   "metadata": {},
   "outputs": [
    {
     "name": "stdout",
     "output_type": "stream",
     "text": [
      "rock, paper, scissors, lizard, or spock? paper\n",
      "Computer has paper\n",
      "tied game\n",
      "another game? lizard\n"
     ]
    }
   ],
   "source": [
    "import numpy.random as random\n",
    "\n",
    "def scrls():\n",
    "    scissors = {'rock': False, 'paper': True, 'lizard': True, 'spock':False}\n",
    "    rock = {'scissors': True, 'paper': False, 'lizard': True, 'spock':False}\n",
    "    paper = {'scissors': False, 'rock': True, 'lizard': False, 'spock':True}\n",
    "    lizard = {'scissors': False, 'paper': True, 'rock': False, 'spock':True}\n",
    "    spock = {'rock': True, 'scissors': True, 'lizard': False, 'paper':False}\n",
    "    \n",
    "    rules = {'scissors': scissors, 'rock': rock, 'paper': paper, 'lizard': lizard, 'spock': spock}\n",
    "    \n",
    "    answer = None\n",
    "    while answer not in rules:\n",
    "        answer = input(\"rock, paper, scissors, lizard, or spock? \")\n",
    "        \n",
    "    computer_answer = random.choice(list(rules))\n",
    "\n",
    "    if answer == computer_answer:\n",
    "        print('Computer has ' + computer_answer)\n",
    "        print('tied game')\n",
    "    else:\n",
    "        if rules[answer][computer_answer]:\n",
    "            print('Computer has ' + computer_answer)\n",
    "            print('you won')\n",
    "        else:\n",
    "            print('Computer has ' + computer_answer)\n",
    "            print('you loose')\n",
    "\n",
    "    new_game = input(\"another game? \")\n",
    "    if new_game in ['y', 'Y', 'yes']:\n",
    "        scrls()\n",
    "\n",
    "if __name__ == \"__main__\":\n",
    "    scrls()"
   ]
  },
  {
   "cell_type": "code",
   "execution_count": null,
   "metadata": {},
   "outputs": [],
   "source": []
  }
 ],
 "metadata": {
  "kernelspec": {
   "display_name": "Python 3",
   "language": "python",
   "name": "python3"
  },
  "language_info": {
   "codemirror_mode": {
    "name": "ipython",
    "version": 3
   },
   "file_extension": ".py",
   "mimetype": "text/x-python",
   "name": "python",
   "nbconvert_exporter": "python",
   "pygments_lexer": "ipython3",
   "version": "3.5.2"
  }
 },
 "nbformat": 4,
 "nbformat_minor": 1
}
