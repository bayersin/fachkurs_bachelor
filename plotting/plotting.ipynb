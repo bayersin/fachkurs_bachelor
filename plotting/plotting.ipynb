{
 "cells": [
  {
   "cell_type": "markdown",
   "metadata": {},
   "source": [
    "# Plotting in Python"
   ]
  },
  {
   "cell_type": "markdown",
   "metadata": {},
   "source": [
    " Python does not have built in plotting capabilities, but there is a plethora of useful packages specialized to all kinds of plots. Here is a very incomplete list of my favorites:\n",
    "\n",
    "- [Matplotlib](http://matplotlib.org/gallery.html)\n",
    "  \n",
    "  Matplotlib is the standard when it comes to plotting in Python. It is very useful for visualization for publications and can also be included in applications.\n",
    "  ![cation](http://matplotlib.org/_images/fill_demo_features.png)\n",
    "- [Bokeh](http://bokeh.pydata.org/en/latest/)\n",
    "\n",
    "  Bokeh is useful to create beautiful interactive plots.\n",
    "  ![bokeh](http://bokeh.pydata.org/en/latest/_images/stocks_t.png)\n",
    "- [Plotly](https://plot.ly/python/)\n",
    "\n",
    "  Similar to Bokeh, but more flexible. Plotly has api to other languages and a nice webinterface to style plots.\n",
    "  ![plotly](http://images.plot.ly/plotly-documentation/thumbnail/wind-rose.jpg)\n",
    "- [Mayavi](http://code.enthought.com/projects/mayavi/)\n",
    "\n",
    "  Not really a plotting tool, but a specialized package for 3D data visualization.\n",
    "  ![mayavi](http://code.enthought.com/img/mayavi-samp.png)\n"
   ]
  },
  {
   "cell_type": "markdown",
   "metadata": {},
   "source": [
    "# What we will do"
   ]
  },
  {
   "cell_type": "markdown",
   "metadata": {},
   "source": [
    "We will work primarily in `matplotlib` to cover the basics of what you will need for the projects and scientific plotting in general.\n",
    "\n",
    "Matplotlib, as the name suggests, has strong similarities to Matlab and learning it makes it easy to plot in both languages. The `pyplot` module makes python work like matlab in many aspects."
   ]
  },
  {
   "cell_type": "markdown",
   "metadata": {},
   "source": [
    "To use matplotlib we need to do the following setup:"
   ]
  },
  {
   "cell_type": "code",
   "execution_count": null,
   "metadata": {
    "collapsed": false
   },
   "outputs": [],
   "source": [
    "%matplotlib inline                  \n",
    "import numpy as np                  # we will need numpy\n",
    "import matplotlib.pyplot as plt     # and this is for plotting"
   ]
  },
  {
   "cell_type": "markdown",
   "metadata": {},
   "source": [
    "Line `1` lets matplotlib output images directly in the notebook. If you just use `%matplotlib` the output is opened in a new window."
   ]
  },
  {
   "cell_type": "markdown",
   "metadata": {},
   "source": [
    "And now we can plot:"
   ]
  },
  {
   "cell_type": "code",
   "execution_count": null,
   "metadata": {
    "collapsed": false,
    "scrolled": true
   },
   "outputs": [],
   "source": [
    "xv=[1,2,3,4]\n",
    "yv=[5,1,4,0]\n",
    "plt.plot(xv,yv)"
   ]
  },
  {
   "cell_type": "markdown",
   "metadata": {},
   "source": [
    "It really is that easy!"
   ]
  },
  {
   "cell_type": "markdown",
   "metadata": {},
   "source": [
    "# Understanding our plot\n",
    "\n",
    "It is important to note that in the code above we imported `matplotlib.pyplot`. Pyplot is the part of matplotlib (MPL) we will use mostly. It is a collection of functions that can be used for the easy creation of plots. Luckily the inner workings of MPL are mostly hidden from us users.se commands create plots which consist of a. \n",
    "\n",
    "To really work with MPL (or any other plotting library) though, it is important to understand how plots are build up.\n",
    "\n",
    "Plots in MPL have the following components:\n",
    "- *figures*:\n",
    "  A canvas to draw on\n",
    "    - *axis*:\n",
    "      Coordinate systems to put data in\n",
    "        - *ticks*:\n",
    "          labels and dimensions of the axis\n",
    "  \n",
    "\n",
    "  \n",
    "MPL also uses the concept of *current plot*. Whenever you issue a `plot` command, it is drawn on your current figure if there is one, otherwise it opens a new plot.\n",
    "\n",
    "Plots are created by `plot` commands but not displayed directly, usually you need to use the `plt.show()` command to show the figure on screen.\n",
    "\n",
    "```{python}\n",
    "plt.plot(x,y)\n",
    "plt.show()\n",
    "```\n",
    "\n",
    "In this notebook we do not need to do this, because Jupyter takes care of that if we use `%matplotlib inline` command."
   ]
  },
  {
   "cell_type": "markdown",
   "metadata": {},
   "source": [
    "## Styling our plot"
   ]
  },
  {
   "cell_type": "markdown",
   "metadata": {},
   "source": [
    "We can modify our plot after we created it using the `setp` function:"
   ]
  },
  {
   "cell_type": "code",
   "execution_count": null,
   "metadata": {
    "collapsed": false
   },
   "outputs": [],
   "source": [
    "x = np.linspace(-np.pi, np.pi, 256)\n",
    "y = np.sin(x)\n",
    "myplot = plt.plot(x,y,'k--')\n",
    "plt.setp(myplot,linewidth=3.0)"
   ]
  },
  {
   "cell_type": "markdown",
   "metadata": {},
   "source": [
    "Calling `plt.setp(myplot)` shows us all the available arguments:"
   ]
  },
  {
   "cell_type": "code",
   "execution_count": null,
   "metadata": {
    "collapsed": false
   },
   "outputs": [],
   "source": [
    "plt.setp(myplot)"
   ]
  },
  {
   "cell_type": "markdown",
   "metadata": {},
   "source": [
    "### Styles\n",
    "\n",
    "The defaults of MPL are not the most beautiful out there, so luckily we can set better defaults using styles:"
   ]
  },
  {
   "cell_type": "code",
   "execution_count": null,
   "metadata": {
    "collapsed": false
   },
   "outputs": [],
   "source": [
    "print(plt.style.available)\n",
    "plt.style.use('ggplot')"
   ]
  },
  {
   "cell_type": "code",
   "execution_count": null,
   "metadata": {
    "collapsed": false
   },
   "outputs": [],
   "source": [
    "plt.plot(x,y)"
   ]
  },
  {
   "cell_type": "markdown",
   "metadata": {},
   "source": [
    "## Legends\n",
    "\n",
    "Legends can be added to get an overview of different plot components.\n",
    "Let's create a new figure to draw on:"
   ]
  },
  {
   "cell_type": "code",
   "execution_count": null,
   "metadata": {
    "collapsed": false
   },
   "outputs": [],
   "source": [
    "fig = plt.figure()\n",
    "ax = plt.axes()\n",
    "random = np.random.random(x.shape)-.5\n",
    "ax.plot(x,y)\n",
    "ax.plot(x, y, color=\"blue\", linestyle=\"-\", label=\"sine\")\n",
    "ax.plot(x, random, color=\"red\", linestyle=\"-\", label=\"random\")\n",
    "ax.legend(loc='upper left')"
   ]
  },
  {
   "cell_type": "markdown",
   "metadata": {},
   "source": [
    "## Labels and Titles"
   ]
  },
  {
   "cell_type": "code",
   "execution_count": null,
   "metadata": {
    "collapsed": false
   },
   "outputs": [],
   "source": [
    "ax.set_xlabel(\"a.u.\")\n",
    "ax.set_ylabel(\"a.u.\")\n",
    "ax.set_title(\"Sine and random noise\")\n",
    "fig"
   ]
  },
  {
   "cell_type": "markdown",
   "metadata": {},
   "source": [
    "## Ticks"
   ]
  },
  {
   "cell_type": "code",
   "execution_count": null,
   "metadata": {
    "collapsed": false
   },
   "outputs": [],
   "source": [
    "ax.set_xticks([-np.pi, -np.pi/2, 0, np.pi/2, np.pi])\n",
    "ax.set_xticklabels([r'$-\\pi$', r'$-\\pi/2$', r'$0$', r'$+\\pi/2$', r'$+\\pi$'])\n",
    "\n",
    "ax.set_yticks([-1, 0, +1])\n",
    "ax.set_yticklabels([r'$-1$', r'$0$', r'$+1$'])\n",
    "fig"
   ]
  },
  {
   "cell_type": "markdown",
   "metadata": {},
   "source": [
    "## Saving our work\n",
    "\n",
    "You can save each plot in different formats:"
   ]
  },
  {
   "cell_type": "code",
   "execution_count": null,
   "metadata": {
    "collapsed": false
   },
   "outputs": [],
   "source": [
    "plt.plot(x,y)\n",
    "plt.savefig('foo.png', dpi=600, format='png',orientation='landscape')"
   ]
  },
  {
   "cell_type": "markdown",
   "metadata": {},
   "source": [
    "If you want to save a figure that is not your current figure:"
   ]
  },
  {
   "cell_type": "code",
   "execution_count": null,
   "metadata": {
    "collapsed": false
   },
   "outputs": [],
   "source": [
    "fig.savefig(\"sine.png\")"
   ]
  },
  {
   "cell_type": "markdown",
   "metadata": {},
   "source": [
    "![sf](sine.png)"
   ]
  },
  {
   "cell_type": "markdown",
   "metadata": {},
   "source": [
    "## Axes"
   ]
  },
  {
   "cell_type": "markdown",
   "metadata": {},
   "source": [
    "Axes are the areas on you figure where your actual data lives. You can put number of axes on a figure and fill them with different data. \n",
    "\n",
    "Let's plot the eye of sauron:"
   ]
  },
  {
   "cell_type": "code",
   "execution_count": null,
   "metadata": {
    "collapsed": false
   },
   "outputs": [],
   "source": [
    "plt.style.use(\"dark_background\")\n",
    "t = np.linspace(0,100,1000)\n",
    "s = np.sin(t)/(t+1)\n",
    "c = np.cos(t)/np.sqrt((t+1))\n",
    "\n",
    "ax1 = plt.axes([.1,.1,2,2])\n",
    "ax2 = plt.axes([1.3,.2,.3,.3])\n",
    "ax3 = plt.axes([1.7,.2,.3,.3])\n",
    "ax2.plot(t,s)\n",
    "ax3.plot(t,c)\n",
    "ax1.plot(s,c, 'red')\n",
    "ax1.plot(s+0.005,c+0.01, 'yellow')"
   ]
  },
  {
   "cell_type": "markdown",
   "metadata": {},
   "source": [
    "Ok, pretty close."
   ]
  },
  {
   "cell_type": "markdown",
   "metadata": {},
   "source": [
    "![](https://images.duckduckgo.com/iu/?u=http%3A%2F%2Fvetoblabla.files.wordpress.com%2F2011%2F07%2Feye-of-sauron-pic.jpg&f=1)"
   ]
  },
  {
   "cell_type": "markdown",
   "metadata": {},
   "source": [
    "## Subplots"
   ]
  },
  {
   "cell_type": "markdown",
   "metadata": {},
   "source": [
    "The `subplot` command creates new *axis* in a regular grid that can be easily accessed. Using the subplot command we can plot different data on each of the created axis.\n",
    "\n",
    "Calling the subplot command with a different 3rd argument can be seen as moving the cursor to a different location. Each plot directive after the `subplot` call will be done on the according subplot/axes."
   ]
  },
  {
   "cell_type": "markdown",
   "metadata": {},
   "source": [
    "![](http://www.labri.fr/perso/nrougier/teaching/matplotlib/figures/subplot-grid.png)"
   ]
  },
  {
   "cell_type": "code",
   "execution_count": null,
   "metadata": {
    "collapsed": false
   },
   "outputs": [],
   "source": [
    "plt.style.use(\"ggplot\")\n",
    "plt.subplot(2,2,1)\n",
    "plt.plot(t, c, color=\"blue\", linewidth=1.0, linestyle=\"-\")\n",
    "plt.subplot(2,2,2)\n",
    "# Plot sine using green color with a continuous line of width 1 (pixels)\n",
    "plt.plot(t, s, color=\"green\", linewidth=1.0, linestyle=\"--\")\n",
    "plt.subplot(2,2,3)\n",
    "plt.plot(x,y)\n",
    "plt.subplot(2,2,4)\n",
    "plt.plot(x,random)"
   ]
  },
  {
   "cell_type": "markdown",
   "metadata": {},
   "source": [
    "Another example:"
   ]
  },
  {
   "cell_type": "code",
   "execution_count": null,
   "metadata": {
    "collapsed": false
   },
   "outputs": [],
   "source": [
    "plt.figure(figsize=(9,3))\n",
    "plt.subplot(1,3,1)\n",
    "plt.plot(t,s)\n",
    "plt.subplot(1,3,2)\n",
    "plt.plot(t,c)\n",
    "plt.subplot(1,3,3)\n",
    "plt.plot(s,c)"
   ]
  },
  {
   "cell_type": "markdown",
   "metadata": {},
   "source": [
    "### Shared axis"
   ]
  },
  {
   "cell_type": "markdown",
   "metadata": {},
   "source": [
    "In the above example it would make sense to make at least the y-axis shared to keep scaling and save space. For this we need to assign axis manually using the `subplots` command:"
   ]
  },
  {
   "cell_type": "code",
   "execution_count": null,
   "metadata": {
    "collapsed": false
   },
   "outputs": [],
   "source": [
    "f, (ax1, ax2, ax3) = plt.subplots(1, 3, \n",
    "                                  sharey=True, \n",
    "                                  sharex=False, \n",
    "                                  figsize=(9,3))\n",
    "ax1.plot(t,s)\n",
    "ax2.plot(t,c)\n",
    "ax3.plot(s,c)"
   ]
  },
  {
   "cell_type": "markdown",
   "metadata": {},
   "source": [
    "## Animation"
   ]
  },
  {
   "cell_type": "code",
   "execution_count": null,
   "metadata": {
    "collapsed": false
   },
   "outputs": [],
   "source": [
    "import numpy as np\n",
    "import matplotlib.pyplot as plt\n",
    "import matplotlib.animation as animation\n",
    "\n",
    "fig, (ax1, ax2, ax3) = plt.subplots(1, 3, \n",
    "                      sharey=True, \n",
    "                      sharex=False, \n",
    "                      figsize=(9,3))\n",
    "\n",
    "p1, = ax1.plot([],[])\n",
    "p2, = ax2.plot([],[])\n",
    "p3, = ax3.plot([],[])\n",
    "t = np.linspace(0,100,2000)\n",
    "x = np.sin(t)/(t+1)\n",
    "y = np.cos(t)/np.sqrt(t+1)\n",
    "ax1.set_ylim((-0.5,1))\n",
    "ax1.set_xlim((0,100))\n",
    "ax2.set_xlim((0,100))\n",
    "ax3.set_xlim((-.5,.5))\n",
    "\n",
    "def animate(i):\n",
    "    p1.set_data(t[0:i*10],x[0:i*10])\n",
    "    p2.set_data(t[0:i*10],y[0:i*10])\n",
    "    p3.set_data(x[0:i*10],y[0:i*10])\n",
    "    return p1,p2,p3\n",
    "\n",
    "# Init only required for blitting to give a clean slate.\n",
    "def init():\n",
    "    p1.set_data(np.ma.array(t, mask=True),np.ma.array(x, mask=True))\n",
    "    p2.set_data(np.ma.array(t, mask=True),np.ma.array(y, mask=True))\n",
    "    p3.set_data(np.ma.array(x, mask=True),np.ma.array(y, mask=True))\n",
    "    return p1,p2,p3\n",
    "\n",
    "ani = animation.FuncAnimation(fig, animate, np.arange(1, 200), init_func=init,\n",
    "                              interval=10, blit=True)"
   ]
  },
  {
   "cell_type": "code",
   "execution_count": null,
   "metadata": {
    "collapsed": false
   },
   "outputs": [],
   "source": [
    "plt.style.use(\"classic\")\n",
    "ani.save('ani.gif', writer=\"imagemagick\", fps=30, dpi=50)"
   ]
  },
  {
   "cell_type": "markdown",
   "metadata": {},
   "source": [
    "![animation](ani.gif)"
   ]
  },
  {
   "cell_type": "markdown",
   "metadata": {},
   "source": [
    "## Matplotlib resources:"
   ]
  },
  {
   "cell_type": "markdown",
   "metadata": {},
   "source": [
    "To get inspiration and further help look at the MPL website. Here are a few things you might want to have a look at before doing the exercise:\n",
    "\n",
    "- In this notebook, whenever you are in a code block and press `Shift+Tab` you will get a popup that tries to help you, repeatedly press and it becomes even more helpful\n",
    "- [Gallery](http://matplotlib.org/gallery.html) of beautiful plots\n",
    "- [Examples](http://matplotlib.org/examples/index.html) for (almost) everything you can to with MPL\n",
    "- [Pyplot](http://matplotlib.org/api/pyplot_summary.html) documentation that tells you how to use the commands available"
   ]
  },
  {
   "cell_type": "markdown",
   "metadata": {
    "collapsed": true
   },
   "source": [
    "# Exercises"
   ]
  },
  {
   "cell_type": "markdown",
   "metadata": {},
   "source": [
    "# Exercise 1"
   ]
  },
  {
   "cell_type": "markdown",
   "metadata": {},
   "source": [
    "#### a)"
   ]
  },
  {
   "cell_type": "markdown",
   "metadata": {},
   "source": [
    "First you will plot a real time series dataset. In the same folder as this notebook there is a `.csv` file containing the expression of cell cycle dependent yeast genes. Your task is to visualize these."
   ]
  },
  {
   "cell_type": "markdown",
   "metadata": {},
   "source": [
    "We prepared a snippet that handles the reading of the csv file and gives you three variables:\n",
    "- `data`: contains the expression changes over time\n",
    "- `times`: the measurement times\n",
    "- `genes`: names of the included genes"
   ]
  },
  {
   "cell_type": "code",
   "execution_count": null,
   "metadata": {
    "collapsed": false
   },
   "outputs": [],
   "source": [
    "from numpy import genfromtxt\n",
    "import csv\n",
    "data = genfromtxt('genes.csv', delimiter=',', skip_header=1)[:,1:]\n",
    "with open('genes.csv') as f:\n",
    "    times = csv.reader(f).__next__()[1:]\n",
    "    times = [int(t) for t in times]\n",
    "    genes = [x[0] for x in csv.reader(f)]"
   ]
  },
  {
   "cell_type": "markdown",
   "metadata": {},
   "source": [
    "#### Plot all the time series into one plot\n",
    "\n",
    "To include the correct x-axis you might need to create a matrix of the same dimensions as the data. Use your *numpy* skills in repeating and reshaping for this!"
   ]
  },
  {
   "cell_type": "code",
   "execution_count": null,
   "metadata": {
    "collapsed": false
   },
   "outputs": [],
   "source": [
    "plt.style.use(\"ggplot\")\n",
    "f, ax = plt.subplots(1,1)\n",
    "time_matrix = np.repeat([times], data.T.shape[1], axis=0)\n",
    "ax.plot(time_matrix.T,data.T)\n",
    "plt.savefig('ex1.png')"
   ]
  },
  {
   "cell_type": "markdown",
   "metadata": {},
   "source": [
    "#### Add labels and a title"
   ]
  },
  {
   "cell_type": "markdown",
   "metadata": {},
   "source": [
    "Use the plot you made above and add some descriptions."
   ]
  },
  {
   "cell_type": "markdown",
   "metadata": {},
   "source": [
    "#### Add a legend"
   ]
  },
  {
   "cell_type": "markdown",
   "metadata": {},
   "source": [
    "Here you will need to do each plot seperately in a for loop to include labels."
   ]
  },
  {
   "cell_type": "code",
   "execution_count": null,
   "metadata": {
    "collapsed": false
   },
   "outputs": [],
   "source": [
    "for i,gene in enumerate(genes):\n",
    "    plt.plot(times, data[i,:], label=gene)\n",
    "plt.legend(loc='upper right', bbox_to_anchor=(1.3,1), frameon=True, fancybox=True)\n",
    "plt.savefig(\"ex1_legend.png\")"
   ]
  },
  {
   "cell_type": "markdown",
   "metadata": {},
   "source": [
    "#### b)"
   ]
  },
  {
   "cell_type": "markdown",
   "metadata": {},
   "source": [
    "Plot the mean and standard deviation at each time point. To add errorbars look at [this](http://matplotlib.org/examples/pylab_examples/errorbar_limits.html) example."
   ]
  },
  {
   "cell_type": "code",
   "execution_count": null,
   "metadata": {
    "collapsed": false
   },
   "outputs": [],
   "source": [
    "line, caps, errs = plt.errorbar(times, data.mean(axis=0), yerr=data.std(axis=0))\n",
    "plt.setp(line, linewidth=2)\n",
    "plt.setp(caps, color='b')\n",
    "plt.setp(errs, alpha=.5)"
   ]
  },
  {
   "cell_type": "markdown",
   "metadata": {},
   "source": [
    "## Exercise 2"
   ]
  },
  {
   "cell_type": "markdown",
   "metadata": {},
   "source": [
    "Plot the corellation between different time points as scatter plots."
   ]
  },
  {
   "cell_type": "code",
   "execution_count": null,
   "metadata": {
    "collapsed": false
   },
   "outputs": [],
   "source": [
    "x = data[:,5]\n",
    "y = data[:,6]\n",
    "plt.scatter(x,data[:,10])"
   ]
  },
  {
   "cell_type": "markdown",
   "metadata": {},
   "source": [
    "## Exercise 3"
   ]
  },
  {
   "cell_type": "markdown",
   "metadata": {},
   "source": [
    "Look at the examples in matplotlib. Can you do a histogram of all measurements?"
   ]
  },
  {
   "cell_type": "code",
   "execution_count": null,
   "metadata": {
    "collapsed": false
   },
   "outputs": [],
   "source": [
    "plt.hist(np.reshape(data, (-1,1)), bins=20)"
   ]
  },
  {
   "cell_type": "markdown",
   "metadata": {},
   "source": [
    "## Exercise 4"
   ]
  },
  {
   "cell_type": "markdown",
   "metadata": {},
   "source": [
    "Put the last 2 plots into one figure using subplots."
   ]
  },
  {
   "cell_type": "code",
   "execution_count": null,
   "metadata": {
    "collapsed": false
   },
   "outputs": [],
   "source": [
    "plt.subplot(121)\n",
    "plt.hist(np.reshape(data, (-1,1)), bins=20)\n",
    "plt.subplot(122)\n",
    "plt.scatter(x,data[:,10])"
   ]
  },
  {
   "cell_type": "markdown",
   "metadata": {},
   "source": [
    "## Further material"
   ]
  },
  {
   "cell_type": "markdown",
   "metadata": {},
   "source": [
    "http://www.scipy-lectures.org/intro/matplotlib/matplotlib.html#other-types-of-plots-examples-and-exercises"
   ]
  },
  {
   "cell_type": "markdown",
   "metadata": {},
   "source": [
    "## Bonus"
   ]
  },
  {
   "cell_type": "markdown",
   "metadata": {},
   "source": [
    "Extend the above animation with a dot at the tip of the line."
   ]
  },
  {
   "cell_type": "code",
   "execution_count": null,
   "metadata": {
    "collapsed": true
   },
   "outputs": [],
   "source": []
  }
 ],
 "metadata": {
  "kernelspec": {
   "display_name": "Python 3",
   "language": "python",
   "name": "python3"
  },
  "language_info": {
   "codemirror_mode": {
    "name": "ipython",
    "version": 3
   },
   "file_extension": ".py",
   "mimetype": "text/x-python",
   "name": "python",
   "nbconvert_exporter": "python",
   "pygments_lexer": "ipython3",
   "version": "3.5.2"
  }
 },
 "nbformat": 4,
 "nbformat_minor": 0
}
