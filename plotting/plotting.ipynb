{
 "cells": [
  {
   "cell_type": "markdown",
   "metadata": {},
   "source": [
    "# Plotting in Python"
   ]
  },
  {
   "cell_type": "markdown",
   "metadata": {},
   "source": [
    " Python does not have built in plotting capabilities, but there is a plethora of useful packages specialized to all kinds of plots. Here is a very incomplete list of my favorites:\n",
    "\n",
    "- [Matplotlib](http://matplotlib.org/gallery.html)\n",
    "  ![cation](http://matplotlib.org/_images/fill_demo_features.png)\n",
    "- [Mayavi](http://code.enthought.com/projects/mayavi/)\n",
    "  ![mayavi](http://code.enthought.com/img/mayavi-samp.png)\n",
    "- [Bokeh](http://bokeh.pydata.org/en/latest/)\n",
    "  ![bokeh](http://bokeh.pydata.org/en/latest/_images/stocks_t.png)\n",
    "- [Plotly](https://plot.ly/python/)\n",
    "  ![plotly](http://images.plot.ly/plotly-documentation/thumbnail/wind-rose.jpg)"
   ]
  },
  {
   "cell_type": "markdown",
   "metadata": {},
   "source": [
    "We will work primarily in `matplotlib` to cover the basics of what you will need for the projects and scientific plotting in general.\n",
    "\n",
    "Matplotlib, as the name suggests has strong similarities to Matlab and learning it makes it easy to plot in both languages. The `pylab` module makes python work like matlab in many aspects."
   ]
  },
  {
   "cell_type": "markdown",
   "metadata": {},
   "source": [
    "To use matplotlib we need to do the following setup:"
   ]
  },
  {
   "cell_type": "code",
   "execution_count": null,
   "metadata": {
    "collapsed": true
   },
   "outputs": [],
   "source": [
    "%matplotlib inline \n",
    "import numpy as np\n",
    "import matplotlib.pyplot as plt"
   ]
  },
  {
   "cell_type": "markdown",
   "metadata": {},
   "source": [
    "An now we can plot:"
   ]
  },
  {
   "cell_type": "code",
   "execution_count": null,
   "metadata": {
    "collapsed": false,
    "scrolled": true
   },
   "outputs": [],
   "source": [
    "xv=[1,2,3,4]\n",
    "yv=[5,1,4,0]\n",
    "plt.plot(xv,yv)"
   ]
  },
  {
   "cell_type": "markdown",
   "metadata": {},
   "source": [
    "It really is that easy!"
   ]
  },
  {
   "cell_type": "markdown",
   "metadata": {},
   "source": [
    "# Understanding our plot\n",
    "\n",
    "To really work with matplotlib (MPL) or any other plotting library it is important to understand how plots are build up. In MPL plots have an architecture that borrows heavily from Matlab:\n",
    "\n",
    "Plots in matplotlib have the following components:\n",
    "- *figures*:\n",
    "  A canvas to draw on\n",
    "- *axis*:\n",
    "  Coordinate systems to put data in\n",
    "- *ticks*:\n",
    "  labels and dimensions of the axis\n",
    "  \n",
    "MPL also uses the concept of *current plot*. Whenever you issue a plot command, it is drawn on you current plot if there is one, otherwise it opens a new plot.\n",
    "\n",
    "Plots are created by plot commands but not displayed directly, usually you need to use the `plt.show()` command to show the figure on screen.\n",
    "\n",
    "```{python}\n",
    "plt.plot(x,y)\n",
    "plt.show()\n",
    "```\n",
    "\n"
   ]
  },
  {
   "cell_type": "markdown",
   "metadata": {},
   "source": [
    "## Styling our plot"
   ]
  },
  {
   "cell_type": "markdown",
   "metadata": {},
   "source": [
    "We can modify our plot after we created it using the `setp` function:"
   ]
  },
  {
   "cell_type": "code",
   "execution_count": null,
   "metadata": {
    "collapsed": false
   },
   "outputs": [],
   "source": [
    "x = np.linspace(-np.pi, np.pi, 256)\n",
    "y = np.sin(x)\n",
    "myplot = plt.plot(x,y,'k--')\n",
    "plt.setp(myplot,linewidth=3.0)"
   ]
  },
  {
   "cell_type": "markdown",
   "metadata": {},
   "source": [
    "Calling `plt.setp(myplot)` shows us all the available arguments:"
   ]
  },
  {
   "cell_type": "code",
   "execution_count": null,
   "metadata": {
    "collapsed": true
   },
   "outputs": [],
   "source": [
    "plt.setp(myplot)"
   ]
  },
  {
   "cell_type": "markdown",
   "metadata": {},
   "source": [
    "## Styles\n",
    "\n",
    "The defaults of MPL are not the most beautiful out there, so luckily we can set better defaults using styles:"
   ]
  },
  {
   "cell_type": "code",
   "execution_count": null,
   "metadata": {
    "collapsed": false
   },
   "outputs": [],
   "source": [
    "print plt.style.available\n",
    "plt.style.use('ggplot')"
   ]
  },
  {
   "cell_type": "code",
   "execution_count": null,
   "metadata": {
    "collapsed": false
   },
   "outputs": [],
   "source": [
    "plt.plot(x,y)"
   ]
  },
  {
   "cell_type": "markdown",
   "metadata": {},
   "source": [
    "## Legends\n",
    "\n",
    "Legends can be added to get an overview of different plot components.\n",
    "Let's create a new figure to draw on:"
   ]
  },
  {
   "cell_type": "code",
   "execution_count": null,
   "metadata": {
    "collapsed": false
   },
   "outputs": [],
   "source": [
    "fig = plt.figure()\n",
    "ax = plt.axes()\n",
    "random = np.random.random(x.shape)-.5\n",
    "ax.plot(x,y)\n",
    "ax.plot(x, y, color=\"blue\", linestyle=\"-\", label=\"sine\")\n",
    "ax.plot(x, random, color=\"red\", linestyle=\"-\", label=\"random\")\n",
    "ax.legend(loc='upper left')"
   ]
  },
  {
   "cell_type": "markdown",
   "metadata": {},
   "source": [
    "## Labels and Titles"
   ]
  },
  {
   "cell_type": "code",
   "execution_count": null,
   "metadata": {
    "collapsed": false
   },
   "outputs": [],
   "source": [
    "ax.set_xlabel(\"a.u.\")\n",
    "ax.set_ylabel(\"a.u.\")\n",
    "ax.set_title(\"Sine and random noise\")\n",
    "fig"
   ]
  },
  {
   "cell_type": "markdown",
   "metadata": {},
   "source": [
    "## Ticks"
   ]
  },
  {
   "cell_type": "code",
   "execution_count": null,
   "metadata": {
    "collapsed": false
   },
   "outputs": [],
   "source": [
    "ax.set_xticks([-np.pi, -np.pi/2, 0, np.pi/2, np.pi])\n",
    "ax.set_xticklabels([r'$-\\pi$', r'$-\\pi/2$', r'$0$', r'$+\\pi/2$', r'$+\\pi$'])\n",
    "\n",
    "ax.set_yticks([-1, 0, +1])\n",
    "ax.set_yticklabels([r'$-1$', r'$0$', r'$+1$'])\n",
    "fig"
   ]
  },
  {
   "cell_type": "markdown",
   "metadata": {},
   "source": [
    "## Saving our work\n",
    "\n",
    "You can save each plot in different formats:"
   ]
  },
  {
   "cell_type": "code",
   "execution_count": null,
   "metadata": {
    "collapsed": false
   },
   "outputs": [],
   "source": [
    "plt.plot(x,y)\n",
    "plt.savefig('foo.png', dpi=600, format='png',orientation='landscape')"
   ]
  },
  {
   "cell_type": "markdown",
   "metadata": {},
   "source": [
    "If you want to save a figure that is not your current figure:"
   ]
  },
  {
   "cell_type": "code",
   "execution_count": null,
   "metadata": {
    "collapsed": false
   },
   "outputs": [],
   "source": [
    "fig.savefig(\"sine.png\")"
   ]
  },
  {
   "cell_type": "markdown",
   "metadata": {},
   "source": [
    "![sf](sine.png)"
   ]
  },
  {
   "cell_type": "markdown",
   "metadata": {},
   "source": [
    "## Axes"
   ]
  },
  {
   "cell_type": "markdown",
   "metadata": {},
   "source": [
    "Axes are the areas on you figure where your actual data lives. You can put number of axes on a figure and fill them with different data. Here's an example:"
   ]
  },
  {
   "cell_type": "code",
   "execution_count": null,
   "metadata": {
    "collapsed": false
   },
   "outputs": [],
   "source": [
    "t = np.linspace(0,100,1000)\n",
    "s = np.sin(t)/(t+1)\n",
    "c = np.cos(t)/np.sqrt((t+1))\n",
    "\n",
    "ax1 = plt.axes([.1,.1,2,2])\n",
    "ax2 = plt.axes([1.3,.2,.3,.3])\n",
    "ax3 = plt.axes([1.7,.2,.3,.3])\n",
    "ax2.plot(t,s)\n",
    "ax3.plot(t,c)\n",
    "ax1.plot(s,c)"
   ]
  },
  {
   "cell_type": "markdown",
   "metadata": {},
   "source": [
    "## Subplots"
   ]
  },
  {
   "cell_type": "markdown",
   "metadata": {},
   "source": [
    "The `subplot` command creates new *axis* in a regular grid that can be easily accessed. Using the subplot command we can plot different data on each of the created axis.\n",
    "\n",
    "Calling the subplot command with a different 3rd argument can be seen as moving the cursor to a different location. Each plot directive after the `subplot` call will be done on the according subplot/axes."
   ]
  },
  {
   "cell_type": "markdown",
   "metadata": {},
   "source": [
    "![](http://www.labri.fr/perso/nrougier/teaching/matplotlib/figures/subplot-grid.png)"
   ]
  },
  {
   "cell_type": "code",
   "execution_count": null,
   "metadata": {
    "collapsed": false
   },
   "outputs": [],
   "source": [
    "plt.subplot(2,2,1)\n",
    "plt.plot(t, c, color=\"blue\", linewidth=1.0, linestyle=\"-\")\n",
    "plt.subplot(2,2,2)\n",
    "# Plot sine using green color with a continuous line of width 1 (pixels)\n",
    "plt.plot(t, s, color=\"green\", linewidth=1.0, linestyle=\"--\")\n",
    "plt.subplot(2,2,3)\n",
    "plt.plot(xv,yv)\n",
    "plt.subplot(2,2,4)\n",
    "plt.plot(x,random)"
   ]
  },
  {
   "cell_type": "markdown",
   "metadata": {},
   "source": [
    "Another example:"
   ]
  },
  {
   "cell_type": "code",
   "execution_count": null,
   "metadata": {
    "collapsed": false
   },
   "outputs": [],
   "source": [
    "plt.figure(figsize=(9,3))\n",
    "plt.subplot(1,3,1)\n",
    "plt.plot(t,s)\n",
    "plt.subplot(1,3,2)\n",
    "plt.plot(t,c)\n",
    "plt.subplot(1,3,3)\n",
    "plt.plot(s,c)"
   ]
  },
  {
   "cell_type": "markdown",
   "metadata": {},
   "source": [
    "### Shared axis"
   ]
  },
  {
   "cell_type": "markdown",
   "metadata": {},
   "source": [
    "In the above example it would make sense to make at least the y-axis shared to keep scaling and save space. For this we need to assign axis manually using the `subplots` command:"
   ]
  },
  {
   "cell_type": "code",
   "execution_count": null,
   "metadata": {
    "collapsed": false
   },
   "outputs": [],
   "source": [
    "f, (ax1, ax2, ax3) = plt.subplots(1, 3, \n",
    "                                  sharey=True, \n",
    "                                  sharex=False, \n",
    "                                  figsize=(9,3))\n",
    "ax1.plot(t,s)\n",
    "ax2.plot(t,c)\n",
    "ax3.plot(s,c)"
   ]
  },
  {
   "cell_type": "markdown",
   "metadata": {},
   "source": [
    "## Animation"
   ]
  },
  {
   "cell_type": "code",
   "execution_count": null,
   "metadata": {
    "collapsed": false
   },
   "outputs": [],
   "source": [
    "import matplotlib.animation as animation\n",
    "\n",
    "f, (ax1, ax2, ax3) = plt.subplots(1, 3, \n",
    "                          sharey=True, \n",
    "                          sharex=False, \n",
    "                          figsize=(9,3))\n",
    "# t = np.linspace(0,0,2000)\n",
    "# x = np.sin(t)/(t+1)\n",
    "# y = np.cos(t)/(t+1)\n",
    "p1, = ax1.plot([],[])\n",
    "p2, = ax2.plot([],[])\n",
    "p3, = ax3.plot([],[])\n",
    "\n",
    "ax1.set_ylim((-1,1))\n",
    "ax1.set_xlim((0,100))\n",
    "ax2.set_xlim((0,100))\n",
    "\n",
    "def update(frame):\n",
    "    global t, x, y\n",
    "    t = np.linspace(0,frame,300)\n",
    "    x = np.sin(t)/(t+1)\n",
    "    y = np.cos(t)/(t+1)\n",
    "    p1.set_data(t,x)\n",
    "    p2.set_data(t,y)\n",
    "    p3.set_data(x,y)\n",
    "    return [ax1,ax2,ax3],\n",
    "    \n",
    "\n",
    "ani = animation.FuncAnimation(f,\n",
    "                        update,\n",
    "                        np.arange(0,200),\n",
    "                        interval=10,\n",
    "                        blit=True)"
   ]
  },
  {
   "cell_type": "code",
   "execution_count": null,
   "metadata": {
    "collapsed": false
   },
   "outputs": [],
   "source": [
    "ani.save('sim1.gif', writer='imagemagick', fps=30, dpi=150)"
   ]
  },
  {
   "cell_type": "markdown",
   "metadata": {},
   "source": [
    "![test](sim1.gif)"
   ]
  }
 ],
 "metadata": {
  "kernelspec": {
   "display_name": "Python 2",
   "language": "python",
   "name": "python2"
  },
  "language_info": {
   "codemirror_mode": {
    "name": "ipython",
    "version": 2
   },
   "file_extension": ".py",
   "mimetype": "text/x-python",
   "name": "python",
   "nbconvert_exporter": "python",
   "pygments_lexer": "ipython2",
   "version": "2.7.6"
  }
 },
 "nbformat": 4,
 "nbformat_minor": 0
}
