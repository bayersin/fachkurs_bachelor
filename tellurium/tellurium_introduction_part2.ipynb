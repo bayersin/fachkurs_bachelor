{
 "cells": [
  {
   "cell_type": "markdown",
   "metadata": {},
   "source": [
    "# Tellurium Introduction - part II:"
   ]
  },
  {
   "cell_type": "markdown",
   "metadata": {},
   "source": [
    "## Advanced topic - Antimony modules!"
   ]
  },
  {
   "cell_type": "markdown",
   "metadata": {},
   "source": [
    "### A minimal example:"
   ]
  },
  {
   "cell_type": "code",
   "execution_count": 28,
   "metadata": {
    "collapsed": false
   },
   "outputs": [],
   "source": [
    "import tellurium as te; te.setDefaultPlottingEngine('matplotlib')\n",
    "import matplotlib.pyplot as plt\n",
    "r = te.loada('example.antimony')\n",
    "def draw(model):\n",
    "    diagram = te.visualization.SBMLDiagram(model.getSBML())\n",
    "    diagram.draw()\n",
    "    \n",
    "    \n",
    "#r.draw()\n",
    "#draw(r)\n",
    "\n",
    "model_circle = '''\n",
    "import \"example.antimony\"\n",
    "\n",
    "model circle\n",
    "    A: example()\n",
    "    B: example()\n",
    "    C: example()\n",
    "    \n",
    "    X0: A.TOM1 -> B.TOM1;\n",
    "    X1: B.TOM1 -> C.TOM1;\n",
    "    X2: C.TOM1 ->  A.TOM1;\n",
    "    \n",
    "end\n",
    "\n",
    "'''\n",
    "\n",
    "circle = te.loada(model_circle)\n",
    "#draw(circle)\n"
   ]
  },
  {
   "cell_type": "code",
   "execution_count": 29,
   "metadata": {
    "collapsed": false
   },
   "outputs": [
    {
     "name": "stdout",
     "output_type": "stream",
     "text": [
      "// Created by libAntimony v2.9.4\n",
      "model *circle()\n",
      "\n",
      "  // Compartments and Species:\n",
      "  compartment A_cell, A_mitochondria, B_cell, B_mitochondria, C_cell, C_mitochondria;\n",
      "  species A_TOM1 in A_cell, A_A_c in A_cell, A_A_m in A_mitochondria, B_TOM1 in B_cell;\n",
      "  species B_A_c in B_cell, B_A_m in B_mitochondria, C_TOM1 in C_cell, C_A_c in C_cell;\n",
      "  species C_A_m in C_mitochondria;\n",
      "\n",
      "  // Assignment Rules:\n",
      "  A_kineticLaw := A_k1*A_TOM1*(A_A_c - A_A_m)/A_I;\n",
      "  B_kineticLaw := B_k1*B_TOM1*(B_A_c - B_A_m)/B_I;\n",
      "  C_kineticLaw := C_k1*C_TOM1*(C_A_c - C_A_m)/C_I;\n",
      "\n",
      "  // Reactions:\n",
      "  A_T0: A_A_c + A_TOM1 -> 2 A_A_m + A_TOM1; A_kineticLaw;\n",
      "  B_T0: B_A_c + B_TOM1 -> 2 B_A_m + B_TOM1; B_kineticLaw;\n",
      "  C_T0: C_A_c + C_TOM1 -> 2 C_A_m + C_TOM1; C_kineticLaw;\n",
      "  X0: A_TOM1 -> B_TOM1; ;\n",
      "  X1: B_TOM1 -> C_TOM1; ;\n",
      "  X2: C_TOM1 -> A_TOM1; ;\n",
      "\n",
      "  // Species initializations:\n",
      "  A_TOM1 = 10;\n",
      "  A_A_c = 100;\n",
      "  A_A_m = 1;\n",
      "  B_TOM1 = 10;\n",
      "  B_A_c = 100;\n",
      "  B_A_m = 1;\n",
      "  C_TOM1 = 10;\n",
      "  C_A_c = 100;\n",
      "  C_A_m = 1;\n",
      "\n",
      "  // Compartment initializations:\n",
      "  A_cell = 100;\n",
      "  A_mitochondria = 10;\n",
      "  B_cell = 100;\n",
      "  B_mitochondria = 10;\n",
      "  C_cell = 100;\n",
      "  C_mitochondria = 10;\n",
      "\n",
      "  // Variable initializations:\n",
      "  A_I = 1;\n",
      "  A_k1 = 0.01;\n",
      "  B_I = 1;\n",
      "  B_k1 = 0.01;\n",
      "  C_I = 1;\n",
      "  C_k1 = 0.01;\n",
      "\n",
      "  // Other declarations:\n",
      "  var A_kineticLaw, B_kineticLaw, C_kineticLaw;\n",
      "  const A_cell, A_mitochondria, B_cell, B_mitochondria, C_cell, C_mitochondria;\n",
      "  const A_I, A_k1, B_I, B_k1, C_I, C_k1;\n",
      "end\n",
      "\n"
     ]
    }
   ],
   "source": [
    "circle = te.loada(model_circle)\n",
    "print circle.getAntimony()"
   ]
  },
  {
   "cell_type": "markdown",
   "metadata": {},
   "source": [
    "## Deletions: delete species in submodels"
   ]
  },
  {
   "cell_type": "code",
   "execution_count": 30,
   "metadata": {
    "collapsed": false
   },
   "outputs": [
    {
     "name": "stdout",
     "output_type": "stream",
     "text": [
      "// Created by libAntimony v2.9.4\n",
      "model *circle()\n",
      "\n",
      "  // Compartments and Species:\n",
      "  compartment A_cell, A_mitochondria, B_cell, B_mitochondria, C_cell, C_mitochondria;\n",
      "  species A_TOM1 in A_cell, A_A_c in A_cell, A_A_m in A_mitochondria, B_TOM1 in B_cell;\n",
      "  species B_A_c in B_cell, B_A_m in B_mitochondria, C_TOM1 in C_cell, C_A_c in C_cell;\n",
      "\n",
      "  // Assignment Rules:\n",
      "  A_kineticLaw := A_k1*A_TOM1*(A_A_c - A_A_m)/A_I;\n",
      "  B_kineticLaw := B_k1*B_TOM1*(B_A_c - B_A_m)/B_I;\n",
      "  C_kineticLaw := 0.1;\n",
      "\n",
      "  // Reactions:\n",
      "  A_T0: A_A_c + A_TOM1 -> 2 A_A_m + A_TOM1; A_kineticLaw;\n",
      "  B_T0: B_A_c + B_TOM1 -> 2 B_A_m + B_TOM1; B_kineticLaw;\n",
      "  C_T0: C_A_c + C_TOM1 -> C_TOM1; ;\n",
      "  X0: A_TOM1 -> B_TOM1; ;\n",
      "  X1: B_TOM1 -> C_TOM1; ;\n",
      "  X2: C_TOM1 -> A_TOM1; ;\n",
      "\n",
      "  // Species initializations:\n",
      "  A_TOM1 = 10;\n",
      "  A_A_c = 100;\n",
      "  A_A_m = 1;\n",
      "  B_TOM1 = 10;\n",
      "  B_A_c = 100;\n",
      "  B_A_m = 1;\n",
      "  C_TOM1 = 10;\n",
      "  C_A_c = 100;\n",
      "\n",
      "  // Compartment initializations:\n",
      "  A_cell = 100;\n",
      "  A_mitochondria = 10;\n",
      "  B_cell = 100;\n",
      "  B_mitochondria = 10;\n",
      "  C_cell = 100;\n",
      "  C_mitochondria = 10;\n",
      "\n",
      "  // Variable initializations:\n",
      "  A_I = 1;\n",
      "  A_k1 = 0.01;\n",
      "  B_I = 1;\n",
      "  B_k1 = 0.01;\n",
      "  C_I = 1;\n",
      "  C_k1 = 0.01;\n",
      "\n",
      "  // Other declarations:\n",
      "  var A_kineticLaw, B_kineticLaw, C_kineticLaw;\n",
      "  const A_cell, A_mitochondria, B_cell, B_mitochondria, C_cell, C_mitochondria;\n",
      "  const A_I, A_k1, B_I, B_k1, C_I, C_k1;\n",
      "end\n",
      "\n"
     ]
    }
   ],
   "source": [
    "model_circle = '''\n",
    "import \"example.antimony\"\n",
    "\n",
    "model circle\n",
    "    A: example()\n",
    "    B: example()\n",
    "    C: example()\n",
    "    \n",
    "    X0: A.TOM1 -> B.TOM1;\n",
    "    X1: B.TOM1 -> C.TOM1;\n",
    "    X2: C.TOM1 ->  A.TOM1;\n",
    "    \n",
    "    delete C.A_m\n",
    "    C.kineticLaw := 0.1;\n",
    "    \n",
    "end\n",
    "\n",
    "'''\n",
    "\n",
    "circle = te.loada(model_circle)\n",
    "print circle.getAntimony()"
   ]
  },
  {
   "cell_type": "markdown",
   "metadata": {},
   "source": [
    "### Usually, deletion of a species overkill. \n",
    "### Instead, overwrite assignments or kinetics!"
   ]
  },
  {
   "cell_type": "code",
   "execution_count": 31,
   "metadata": {
    "collapsed": false
   },
   "outputs": [
    {
     "name": "stdout",
     "output_type": "stream",
     "text": [
      "// Created by libAntimony v2.9.4\n",
      "model *circle()\n",
      "\n",
      "  // Compartments and Species:\n",
      "  compartment A_cell, A_mitochondria, B_cell, B_mitochondria, C_cell, C_mitochondria;\n",
      "  species A_TOM1 in A_cell, A_A_c in A_cell, A_A_m in A_mitochondria, B_TOM1 in B_cell;\n",
      "  species B_A_c in B_cell, B_A_m in B_mitochondria, C_TOM1 in C_cell, C_A_c in C_cell;\n",
      "  species C_A_m in C_mitochondria;\n",
      "\n",
      "  // Assignment Rules:\n",
      "  A_kineticLaw := A_k1*A_TOM1*(A_A_c - A_A_m)/A_I;\n",
      "  B_kineticLaw := B_k1*B_TOM1*(B_A_c - B_A_m)/B_I;\n",
      "\n",
      "  // Rate Rules:\n",
      "  C_kineticLaw' = 0.1;\n",
      "\n",
      "  // Reactions:\n",
      "  A_T0: A_A_c + A_TOM1 -> 2 A_A_m + A_TOM1; A_kineticLaw;\n",
      "  B_T0: B_A_c + B_TOM1 -> 2 B_A_m + B_TOM1; B_kineticLaw;\n",
      "  C_T0: C_A_c + C_TOM1 -> 2 C_A_m + C_TOM1; C_kineticLaw;\n",
      "  X0: A_TOM1 -> B_TOM1; ;\n",
      "  X1: B_TOM1 -> C_TOM1; ;\n",
      "  X2: C_TOM1 -> A_TOM1; ;\n",
      "  A_TO: A_A_c -> A_A_m; 0.1;\n",
      "\n",
      "  // Species initializations:\n",
      "  A_TOM1 = 10;\n",
      "  A_A_c = 100;\n",
      "  A_A_m = 1;\n",
      "  B_TOM1 = 10;\n",
      "  B_A_c = 100;\n",
      "  B_A_m = 1;\n",
      "  C_TOM1 = 10;\n",
      "  C_A_c = 100;\n",
      "  C_A_m = 1;\n",
      "\n",
      "  // Compartment initializations:\n",
      "  A_cell = 100;\n",
      "  A_mitochondria = 10;\n",
      "  B_cell = 100;\n",
      "  B_mitochondria = 10;\n",
      "  C_cell = 100;\n",
      "  C_mitochondria = 10;\n",
      "\n",
      "  // Variable initializations:\n",
      "  A_I = 1;\n",
      "  A_k1 = 0.01;\n",
      "  B_I = 1;\n",
      "  B_k1 = 0.01;\n",
      "  C_I = 1;\n",
      "  C_kineticLaw = 0.1;\n",
      "  C_k1 = 0.01;\n",
      "\n",
      "  // Other declarations:\n",
      "  var A_kineticLaw, B_kineticLaw, C_kineticLaw;\n",
      "  const A_cell, A_mitochondria, B_cell, B_mitochondria, C_cell, C_mitochondria;\n",
      "  const A_I, A_k1, B_I, B_k1, C_I, C_k1;\n",
      "end\n",
      "\n"
     ]
    }
   ],
   "source": [
    "model_circle = '''\n",
    "import \"example.antimony\"\n",
    "\n",
    "model circle\n",
    "    A: example()\n",
    "    B: example()\n",
    "    C: example()\n",
    "    \n",
    "    X0: A.TOM1 -> B.TOM1;\n",
    "    X1: B.TOM1 -> C.TOM1;\n",
    "    X2: C.TOM1 ->  A.TOM1;\n",
    "    \n",
    "    # Assignment rule-> ODE:\n",
    "    C.kineticLaw := ;\n",
    "    C.kineticLaw '= 0.1;\n",
    "    C.kineticLaw = 0.1;\n",
    "    \n",
    "    # Delete reaction:\n",
    "    #delete A.T0\n",
    "    \n",
    "    # Overwrite reaction\n",
    "    A_TO: A.A_c -> A.A_m; 0.1; # Note, the Underline, Submodels are flattened in sbml!\n",
    "end\n",
    "\n",
    "'''\n",
    "\n",
    "circle = te.loada(model_circle)\n",
    "print circle.getAntimony()"
   ]
  }
 ],
 "metadata": {
  "kernelspec": {
   "display_name": "Python [Root]",
   "language": "python",
   "name": "Python [Root]"
  },
  "language_info": {
   "codemirror_mode": {
    "name": "ipython",
    "version": 2
   },
   "file_extension": ".py",
   "mimetype": "text/x-python",
   "name": "python",
   "nbconvert_exporter": "python",
   "pygments_lexer": "ipython2",
   "version": "2.7.11"
  }
 },
 "nbformat": 4,
 "nbformat_minor": 2
}
