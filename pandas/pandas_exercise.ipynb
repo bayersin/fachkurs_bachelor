{
 "cells": [
  {
   "cell_type": "markdown",
   "metadata": {},
   "source": [
    "# Exercises"
   ]
  },
  {
   "cell_type": "code",
   "execution_count": 1,
   "metadata": {
    "collapsed": false
   },
   "outputs": [],
   "source": [
    "import pandas as pd\n",
    "import numpy as np\n",
    "from matplotlib import pyplot as plt\n",
    "plt.style.use('ggplot')\n",
    "%matplotlib inline\n",
    "diamonds = pd.read_csv('diamonds.csv',index_col=0)"
   ]
  },
  {
   "cell_type": "markdown",
   "metadata": {},
   "source": [
    "## Task 1: Basics\n",
    "\n",
    "- have a look at the diamonds dataset: how many rows do we have?, what are the different columns?\n",
    "- create a DataFrame consisting only of the x, y and z columns\n",
    "- access row 5 to 15 in diamonds\n",
    "- create a DataFrame consisting only of row 5 to 15 and name the rows \"A\" to \"K\" (hint: each DataFrame has an .index attribute which can be modified)\n",
    "- access row \"C\" in the DataFrame you just created\n",
    "- use the mixed access operator (.ix) to get the price of the 500th diamond\n",
    "- group the diamnods by color and compute the mean of the price\n",
    "- find all the diamonds with more than 2 carat and plot their price distribution in a histogram\n",
    "- compute and plot the standard deviation of the x dimension for the different cuts\n",
    "\n"
   ]
  },
  {
   "cell_type": "code",
   "execution_count": null,
   "metadata": {
    "collapsed": false
   },
   "outputs": [],
   "source": []
  },
  {
   "cell_type": "markdown",
   "metadata": {
    "collapsed": false
   },
   "source": [
    "### Task 2: Gene expression data\n",
    "\n",
    "In this exercise we will work with a realistic gene expression data set. [Buettner et al.](http://www.nature.com/nbt/journal/v33/n2/full/nbt.3102.html) used single cell RNA-sequencing data, to identify sub-populations of cells with similar gene-expression profiles. RNA-sequencing (RNA seq) data uses next generation sequencing techniques to quantify RNA abundance. \n",
    "\n",
    "Go to the link given above and download the dataset \"Corrected and uncorrected expression values for T-cell data.\" from the supplementary information section. Have a look at the dataset with Libreoffice and import the second datasheet (Cell-cycle corrected gene expr) as a pandas DataFrame. Use the `read_excel()` function together with the sheetname attribute.\n",
    "\n"
   ]
  },
  {
   "cell_type": "code",
   "execution_count": null,
   "metadata": {
    "collapsed": false
   },
   "outputs": [],
   "source": []
  },
  {
   "cell_type": "markdown",
   "metadata": {
    "collapsed": false
   },
   "source": [
    "In the imported table, each column represents a gene, while each row represents a single cell. This table structure is great for an overview, but it is for example not easy to plot a histogramm of the expression of all genes in all cells. For this it would be better to have all expression values in a single column. \n",
    "\n",
    "Convert the table to a table with 3 columns: `cell_id`, `gene` and `expression`. \n",
    "\n",
    "Example:\n",
    "\n",
    "Original table:\n",
    "\n",
    "|  | Gnai3 | Cdc45 | Narf | Klf6 |\n",
    "|--------|--------|--------|:-------:|--------|\n",
    "| Cell 1 | 3.2322 | 3.1981 | 0.29411 | 1.7343 |\n",
    "| Cell 2 | 1.9832 | 1.173 | 0.49389 | 3.8505 |\n",
    "| Cell 3 | 2.2482 | 3.1705 | 1.6279 | 1.6306 |\n",
    "\n",
    "converted table:\n",
    "\n",
    "| cell_id | gene | expression |\n",
    "|---------|-------|------------|\n",
    "| Cell 1 | Gnai3 | 3.2322 |\n",
    "| Cell 1 | Cdc45 | 3.1981 |\n",
    "| Cell 1 | Narf | 0.29411 |\n",
    "| Cell 1 | Klf6 | 1.7343 |\n",
    "| Cell 2 | Gnai3 | 1.9832 |\n",
    "| Cell 2 | Cdc45 | 1.173 |\n",
    "| ... | ... | ... |\n",
    "\n",
    "this conversion can be done using the function `DataFrame.stack()`, which yields a multi-indexed DataFrame. This multi-indexed DataFrame can be converted to a conventional DataFrame using the method `reset_index()`."
   ]
  },
  {
   "cell_type": "code",
   "execution_count": null,
   "metadata": {
    "collapsed": false
   },
   "outputs": [],
   "source": []
  },
  {
   "cell_type": "markdown",
   "metadata": {
    "collapsed": false
   },
   "source": [
    "In the original paper, each cell was assigned to a cluster, based on a principal component analysis of their gene expression profile. The information to which cluster a cell belongs is given in the third sheet of the Excel file (Cluster Assignment). Read in also this sheet and combine the two tables to have expression and cluster assignment in one table."
   ]
  },
  {
   "cell_type": "code",
   "execution_count": null,
   "metadata": {
    "collapsed": false
   },
   "outputs": [],
   "source": []
  },
  {
   "cell_type": "markdown",
   "metadata": {
    "collapsed": false
   },
   "source": [
    "Create a boxplot of the expression of all genes for both clusters."
   ]
  },
  {
   "cell_type": "code",
   "execution_count": null,
   "metadata": {
    "collapsed": false
   },
   "outputs": [],
   "source": []
  },
  {
   "cell_type": "markdown",
   "metadata": {
    "collapsed": false
   },
   "source": [
    "Draw a boxplot of the expression of the different cells in each cluster only for the gene Gata3."
   ]
  },
  {
   "cell_type": "code",
   "execution_count": null,
   "metadata": {
    "collapsed": false
   },
   "outputs": [],
   "source": []
  },
  {
   "cell_type": "markdown",
   "metadata": {},
   "source": [
    "Create a scatter-plot of the two principal components for all Gata3 measurements."
   ]
  },
  {
   "cell_type": "code",
   "execution_count": null,
   "metadata": {
    "collapsed": false
   },
   "outputs": [],
   "source": []
  },
  {
   "cell_type": "markdown",
   "metadata": {},
   "source": [
    "Color the points in the scatter plots according to whether they belong to cluster 0 or 1."
   ]
  },
  {
   "cell_type": "code",
   "execution_count": null,
   "metadata": {
    "collapsed": false
   },
   "outputs": [],
   "source": []
  },
  {
   "cell_type": "code",
   "execution_count": null,
   "metadata": {
    "collapsed": true
   },
   "outputs": [],
   "source": []
  },
  {
   "cell_type": "code",
   "execution_count": null,
   "metadata": {
    "collapsed": true
   },
   "outputs": [],
   "source": []
  },
  {
   "cell_type": "code",
   "execution_count": null,
   "metadata": {
    "collapsed": true
   },
   "outputs": [],
   "source": []
  }
 ],
 "metadata": {
  "kernelspec": {
   "display_name": "Python 3",
   "language": "python",
   "name": "python3"
  },
  "language_info": {
   "codemirror_mode": {
    "name": "ipython",
    "version": 3
   },
   "file_extension": ".py",
   "mimetype": "text/x-python",
   "name": "python",
   "nbconvert_exporter": "python",
   "pygments_lexer": "ipython3",
   "version": "3.5.2"
  }
 },
 "nbformat": 4,
 "nbformat_minor": 0
}
