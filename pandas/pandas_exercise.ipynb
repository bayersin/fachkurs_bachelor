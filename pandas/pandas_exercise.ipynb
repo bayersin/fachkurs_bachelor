{
 "cells": [
  {
   "cell_type": "markdown",
   "metadata": {},
   "source": [
    "# Exercises"
   ]
  },
  {
   "cell_type": "code",
   "execution_count": 2,
   "metadata": {
    "collapsed": false
   },
   "outputs": [],
   "source": [
    "import pandas as pd\n",
    "import numpy as np\n",
    "from matplotlib import pyplot as plt\n",
    "plt.style.use('ggplot')\n",
    "%matplotlib inline\n",
    "diamonds = pd.read_csv('diamonds.csv',index_col=0)"
   ]
  },
  {
   "cell_type": "markdown",
   "metadata": {},
   "source": [
    "## Task 1: Basics\n",
    "\n",
    "- have a look at the diamonds dataset: how many rows do we have?, what are the different columns?\n",
    "- create a DataFrame consisting only of the x, y and z columns\n",
    "- access row 5 to 15 in diamonds\n",
    "- create a DataFrame consisting only of row 5 to 15 and name the rows \"A\" to \"K\" (hint: each DataFrame has an .index attribute which can be modified)\n",
    "- access row \"C\" in the DataFrame you just created\n",
    "- use the mixed access operator (.ix) to get the price of the 500th diamond\n",
    "- group the diamnods by color and compute the mean of the price\n",
    "- find all the diamonds with more than 2 carat and plot their price distribution in a histogram\n",
    "- compute and plot the standard deviation of the x dimension for the different cuts\n",
    "\n"
   ]
  },
  {
   "cell_type": "code",
   "execution_count": null,
   "metadata": {
    "collapsed": false
   },
   "outputs": [],
   "source": []
  },
  {
   "cell_type": "markdown",
   "metadata": {
    "collapsed": false
   },
   "source": [
    "### Task 2: Gene expression data\n",
    "\n",
    "In this exercise we will work with a realistic gene expression data set. [Buettner et al.](http://www.nature.com/nbt/journal/v33/n2/full/nbt.3102.html) used single cell RNA-sequencing data, to identify sub-populations of cells with similar gene-expression profiles. RNA-sequencing (RNA seq) data uses next generation sequencing techniques to quantify RNA abundance. \n",
    "\n",
    "Go to the link given above and download the dataset \"Corrected and uncorrected expression values for T-cell data.\" from the supplementary information section. Have a look at the dataset with Libreoffice and import the second datasheet (Cell-cycle corrected gene expr) as a pandas DataFrame. Use the `read_excel()` function together with the sheetname attribute.\n",
    "\n"
   ]
  },
  {
   "cell_type": "code",
   "execution_count": 3,
   "metadata": {
    "collapsed": false
   },
   "outputs": [],
   "source": [
    "df_ge_corrected = pd.read_excel( 'nbt.3102-S7.xlsx', sheetname=1 ) "
   ]
  },
  {
   "cell_type": "markdown",
   "metadata": {
    "collapsed": false
   },
   "source": [
    "In the imported table, each column represents a gene, while each row represents a single cell. This table structure is great for an overview, but it is for example not easy to plot a histogramm of the expression of all genes in all cells. For this it would be better to have all expression values in a single column. \n",
    "\n",
    "Convert the table to a table with 3 columns: `cell_id`, `gene` and `expression`. \n",
    "\n",
    "Example:\n",
    "\n",
    "Original table:\n",
    "\n",
    "|  | Gnai3 | Cdc45 | Narf | Klf6 |\n",
    "|--------|--------|--------|:-------:|--------|\n",
    "| Cell 1 | 3.2322 | 3.1981 | 0.29411 | 1.7343 |\n",
    "| Cell 2 | 1.9832 | 1.173 | 0.49389 | 3.8505 |\n",
    "| Cell 3 | 2.2482 | 3.1705 | 1.6279 | 1.6306 |\n",
    "\n",
    "converted table:\n",
    "\n",
    "| cell_id | gene | expression |\n",
    "|---------|-------|------------|\n",
    "| Cell 1 | Gnai3 | 3.2322 |\n",
    "| Cell 1 | Cdc45 | 3.1981 |\n",
    "| Cell 1 | Narf | 0.29411 |\n",
    "| Cell 1 | Klf6 | 1.7343 |\n",
    "| Cell 2 | Gnai3 | 1.9832 |\n",
    "| Cell 2 | Cdc45 | 1.173 |\n",
    "| ... | ... | ... |\n",
    "\n",
    "this conversion can be done using the function `DataFrame.stack()`, which yields a multi-indexed DataFrame. This multi-indexed DataFrame can be converted to a conventional DataFrame using the method `reset_index()`."
   ]
  },
  {
   "cell_type": "code",
   "execution_count": 10,
   "metadata": {
    "collapsed": false
   },
   "outputs": [
    {
     "data": {
      "text/html": [
       "<div>\n",
       "<table border=\"1\" class=\"dataframe\">\n",
       "  <thead>\n",
       "    <tr style=\"text-align: right;\">\n",
       "      <th></th>\n",
       "      <th>cell_id</th>\n",
       "      <th>gene</th>\n",
       "      <th>expr</th>\n",
       "    </tr>\n",
       "  </thead>\n",
       "  <tbody>\n",
       "    <tr>\n",
       "      <th>0</th>\n",
       "      <td>Cell 1</td>\n",
       "      <td>Gnai3</td>\n",
       "      <td>3.23220</td>\n",
       "    </tr>\n",
       "    <tr>\n",
       "      <th>1</th>\n",
       "      <td>Cell 1</td>\n",
       "      <td>Cdc45</td>\n",
       "      <td>3.19810</td>\n",
       "    </tr>\n",
       "    <tr>\n",
       "      <th>2</th>\n",
       "      <td>Cell 1</td>\n",
       "      <td>Narf</td>\n",
       "      <td>0.29411</td>\n",
       "    </tr>\n",
       "    <tr>\n",
       "      <th>3</th>\n",
       "      <td>Cell 1</td>\n",
       "      <td>Klf6</td>\n",
       "      <td>1.73430</td>\n",
       "    </tr>\n",
       "    <tr>\n",
       "      <th>4</th>\n",
       "      <td>Cell 1</td>\n",
       "      <td>Scmh1</td>\n",
       "      <td>0.26642</td>\n",
       "    </tr>\n",
       "  </tbody>\n",
       "</table>\n",
       "</div>"
      ],
      "text/plain": [
       "  cell_id   gene     expr\n",
       "0  Cell 1  Gnai3  3.23220\n",
       "1  Cell 1  Cdc45  3.19810\n",
       "2  Cell 1   Narf  0.29411\n",
       "3  Cell 1   Klf6  1.73430\n",
       "4  Cell 1  Scmh1  0.26642"
      ]
     },
     "execution_count": 10,
     "metadata": {},
     "output_type": "execute_result"
    }
   ],
   "source": [
    "df_ge_corrected_slim = df_ge_corrected.stack()\n",
    "df_ge_corrected_slim = df_ge_corrected_slim.reset_index()\n",
    "df_ge_corrected_slim.columns = ('cell_id', 'gene', 'expression')\n",
    "df_ge_corrected_slim.head()"
   ]
  },
  {
   "cell_type": "markdown",
   "metadata": {
    "collapsed": false
   },
   "source": [
    "In the original paper, each cell was assigned to a cluster, based on a principal component analysis of their gene expression profile. The information to which cluster a cell belongs is given in the third sheet of the Excel file (Cluster Assignment). Read in also this sheet and combine the two tables to have expression and cluster assignment in one table."
   ]
  },
  {
   "cell_type": "code",
   "execution_count": 13,
   "metadata": {
    "collapsed": false
   },
   "outputs": [],
   "source": [
    "df_clusters = pd.read_excel( 'nbt.3102-S7.xlsx', sheetname=2 )\n",
    "df_clusters.rename(columns={'CellNr': 'cell_id', 'Gata3HighCLuster': 'cluster'}, inplace=True)\n",
    "df_merge = pd.merge(df_ge_corrected_slim, df_clusters)"
   ]
  },
  {
   "cell_type": "markdown",
   "metadata": {
    "collapsed": false
   },
   "source": [
    "Create a boxplot of the expression of all genes for both clusters."
   ]
  },
  {
   "cell_type": "code",
   "execution_count": 16,
   "metadata": {
    "collapsed": false
   },
   "outputs": [
    {
     "name": "stderr",
     "output_type": "stream",
     "text": [
      "/usr/lib/python3/dist-packages/pandas/tools/plotting.py:3082: FutureWarning: \n",
      "The default value for 'return_type' will change to 'axes' in a future release.\n",
      " To use the future behavior now, set return_type='axes'.\n",
      " To keep the previous behavior and silence this warning, set return_type='dict'.\n",
      "  rot=rot, grid=grid, **kwds)\n"
     ]
    },
    {
     "data": {
      "text/plain": [
       "OrderedDict([(0,\n",
       "              {'boxes': [<matplotlib.lines.Line2D at 0x7f821ebe9940>],\n",
       "               'caps': [<matplotlib.lines.Line2D at 0x7f821f586b38>,\n",
       "                <matplotlib.lines.Line2D at 0x7f821ebede48>],\n",
       "               'fliers': [<matplotlib.lines.Line2D at 0x7f821ebc5dd8>],\n",
       "               'means': [],\n",
       "               'medians': [<matplotlib.lines.Line2D at 0x7f821ebedf60>],\n",
       "               'whiskers': [<matplotlib.lines.Line2D at 0x7f821ebe91d0>,\n",
       "                <matplotlib.lines.Line2D at 0x7f821f59a0f0>]}),\n",
       "             (1,\n",
       "              {'boxes': [<matplotlib.lines.Line2D at 0x7f821eb4b588>],\n",
       "               'caps': [<matplotlib.lines.Line2D at 0x7f821eb4ee10>,\n",
       "                <matplotlib.lines.Line2D at 0x7f821eb4ef28>],\n",
       "               'fliers': [<matplotlib.lines.Line2D at 0x7f821eb52eb8>],\n",
       "               'means': [],\n",
       "               'medians': [<matplotlib.lines.Line2D at 0x7f821eb526a0>],\n",
       "               'whiskers': [<matplotlib.lines.Line2D at 0x7f821eb4bda0>,\n",
       "                <matplotlib.lines.Line2D at 0x7f821eb4beb8>]})])"
      ]
     },
     "execution_count": 16,
     "metadata": {},
     "output_type": "execute_result"
    },
    {
     "data": {
      "image/png": "[encoded data removed]",
      "text/plain": [
       "<matplotlib.figure.Figure at 0x7f821f50bc88>"
      ]
     },
     "metadata": {},
     "output_type": "display_data"
    }
   ],
   "source": [
    "df_merge.groupby('cluster').boxplot(column='expr')"
   ]
  },
  {
   "cell_type": "markdown",
   "metadata": {
    "collapsed": false
   },
   "source": [
    "Draw a boxplot of the expression of the different cells in each cluster only for the gene Gata3."
   ]
  },
  {
   "cell_type": "code",
   "execution_count": 17,
   "metadata": {
    "collapsed": false
   },
   "outputs": [
    {
     "name": "stderr",
     "output_type": "stream",
     "text": [
      "/usr/lib/python3/dist-packages/pandas/tools/plotting.py:3082: FutureWarning: \n",
      "The default value for 'return_type' will change to 'axes' in a future release.\n",
      " To use the future behavior now, set return_type='axes'.\n",
      " To keep the previous behavior and silence this warning, set return_type='dict'.\n",
      "  rot=rot, grid=grid, **kwds)\n"
     ]
    },
    {
     "data": {
      "text/plain": [
       "OrderedDict([(0,\n",
       "              {'boxes': [<matplotlib.lines.Line2D at 0x7f821f0c80b8>],\n",
       "               'caps': [<matplotlib.lines.Line2D at 0x7f821f0c7b00>,\n",
       "                <matplotlib.lines.Line2D at 0x7f821f5314a8>],\n",
       "               'fliers': [<matplotlib.lines.Line2D at 0x7f821f0a4ba8>],\n",
       "               'means': [],\n",
       "               'medians': [<matplotlib.lines.Line2D at 0x7f821f2c0390>],\n",
       "               'whiskers': [<matplotlib.lines.Line2D at 0x7f821f0c8ac8>,\n",
       "                <matplotlib.lines.Line2D at 0x7f821f0adbe0>]}),\n",
       "             (1,\n",
       "              {'boxes': [<matplotlib.lines.Line2D at 0x7f821f482860>],\n",
       "               'caps': [<matplotlib.lines.Line2D at 0x7f821f468f98>,\n",
       "                <matplotlib.lines.Line2D at 0x7f821f0aed68>],\n",
       "               'fliers': [<matplotlib.lines.Line2D at 0x7f821f457780>],\n",
       "               'means': [],\n",
       "               'medians': [<matplotlib.lines.Line2D at 0x7f821f476860>],\n",
       "               'whiskers': [<matplotlib.lines.Line2D at 0x7f821f482f28>,\n",
       "                <matplotlib.lines.Line2D at 0x7f821f468780>]})])"
      ]
     },
     "execution_count": 17,
     "metadata": {},
     "output_type": "execute_result"
    },
    {
     "data": {
      "image/png": "[encoded data removed]",
      "text/plain": [
       "<matplotlib.figure.Figure at 0x7f821f5ba908>"
      ]
     },
     "metadata": {},
     "output_type": "display_data"
    }
   ],
   "source": [
    "df_merge[df_merge['gene'] == 'Gata3'].groupby('cluster').boxplot(column='expr')"
   ]
  },
  {
   "cell_type": "markdown",
   "metadata": {},
   "source": [
    "Create a scatter-plot of the two principal components for all Gata3 measurements."
   ]
  },
  {
   "cell_type": "code",
   "execution_count": 18,
   "metadata": {
    "collapsed": false
   },
   "outputs": [
    {
     "data": {
      "text/plain": [
       "<matplotlib.axes._subplots.AxesSubplot at 0x7f821f47fe48>"
      ]
     },
     "execution_count": 18,
     "metadata": {},
     "output_type": "execute_result"
    },
    {
     "data": {
      "image/png": "[encoded data removed]",
      "text/plain": [
       "<matplotlib.figure.Figure at 0x7f821f5ba9e8>"
      ]
     },
     "metadata": {},
     "output_type": "display_data"
    }
   ],
   "source": [
    "df_merge[df_merge['gene'] == 'Gata3'].plot(x='Component1', y='Component2', kind='scatter' )"
   ]
  },
  {
   "cell_type": "markdown",
   "metadata": {},
   "source": [
    "Color the points in the scatter plots according to whether they belong to cluster 0 or 1."
   ]
  },
  {
   "cell_type": "code",
   "execution_count": 20,
   "metadata": {
    "collapsed": false
   },
   "outputs": [
    {
     "data": {
      "image/png": "[encoded data removed]",
      "text/plain": [
       "<matplotlib.figure.Figure at 0x7f821eecb390>"
      ]
     },
     "metadata": {},
     "output_type": "display_data"
    }
   ],
   "source": [
    "df_gata = df_merge[df_merge['gene'] == 'Gata3']\n",
    "c = ['r', 'b']\n",
    "for cluster in [0, 1]: \n",
    "    df_gata_cluster = df_gata[df_gata['cluster'] == cluster]\n",
    "    plt.scatter(df_gata_cluster['Component1'], df_gata_cluster['Component2'], color=c[cluster])"
   ]
  },
  {
   "cell_type": "code",
   "execution_count": null,
   "metadata": {
    "collapsed": true
   },
   "outputs": [],
   "source": []
  }
 ],
 "metadata": {
  "kernelspec": {
   "display_name": "Python 3",
   "language": "python",
   "name": "python3"
  },
  "language_info": {
   "codemirror_mode": {
    "name": "ipython",
    "version": 3
   },
   "file_extension": ".py",
   "mimetype": "text/x-python",
   "name": "python",
   "nbconvert_exporter": "python",
   "pygments_lexer": "ipython3",
   "version": "3.5.2"
  }
 },
 "nbformat": 4,
 "nbformat_minor": 0
}
